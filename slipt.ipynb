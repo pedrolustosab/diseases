{
 "cells": [
  {
   "cell_type": "code",
   "execution_count": 1,
   "metadata": {},
   "outputs": [],
   "source": [
    "import json\n",
    "import os\n"
   ]
  },
  {
   "cell_type": "code",
   "execution_count": 7,
   "metadata": {},
   "outputs": [],
   "source": [
    "def split_json_file_in_half(input_file):\n",
    "    # Lê o arquivo JSON\n",
    "    with open(input_file, 'r', encoding='utf-8') as file:\n",
    "        data = json.load(file)\n",
    "\n",
    "    # Converte o dicionário em uma lista de tuplas (chave, valor)\n",
    "    items = list(data.items())\n",
    "    \n",
    "    # Calcula o ponto de divisão\n",
    "    midpoint = len(items) // 2\n",
    "\n",
    "    # Divide os itens em duas partes\n",
    "    first_half = dict(items[:midpoint])\n",
    "    second_half = dict(items[midpoint:])\n",
    "\n",
    "    # Salvar o dicionário filtrado em um arquivo JSON\n",
    "    with open(\"symptoms_who_1.json\", \"w\") as json_file:\n",
    "        json.dump(first_half, json_file, indent=4)\n",
    "    with open(\"symptoms_who_2.json\", \"w\") as json_file:\n",
    "        json.dump(second_half, json_file, indent=4)"
   ]
  },
  {
   "cell_type": "code",
   "execution_count": 8,
   "metadata": {},
   "outputs": [],
   "source": [
    "# Definindo os parâmetros\n",
    "input_file = 'diseases_symptoms_who.json'\n",
    "\n",
    "# Chamando a função\n",
    "split_json_file_in_half(input_file)"
   ]
  }
 ],
 "metadata": {
  "kernelspec": {
   "display_name": "Python 3",
   "language": "python",
   "name": "python3"
  },
  "language_info": {
   "codemirror_mode": {
    "name": "ipython",
    "version": 3
   },
   "file_extension": ".py",
   "mimetype": "text/x-python",
   "name": "python",
   "nbconvert_exporter": "python",
   "pygments_lexer": "ipython3",
   "version": "3.11.9"
  }
 },
 "nbformat": 4,
 "nbformat_minor": 2
}
