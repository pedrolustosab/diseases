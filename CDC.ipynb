{
 "cells": [
  {
   "cell_type": "code",
   "execution_count": 1,
   "metadata": {},
   "outputs": [],
   "source": [
    "# Importando Bibliotecas\n",
    "import requests\n",
    "import re\n",
    "import time\n",
    "import json\n",
    "from bs4 import BeautifulSoup"
   ]
  },
  {
   "cell_type": "code",
   "execution_count": 5,
   "metadata": {},
   "outputs": [],
   "source": [
    "def read_json_file(filename):\n",
    "    \"\"\"Lê um arquivo JSON e retorna os dados como um dicionário ou lista Python.\"\"\"\n",
    "    try:\n",
    "        with open(filename, 'r', encoding='utf-8') as file:\n",
    "            data = json.load(file)\n",
    "        return data\n",
    "    except FileNotFoundError:\n",
    "        print(f\"Erro: Arquivo '{filename}' não encontrado.\")\n",
    "        return None\n",
    "    except json.JSONDecodeError:\n",
    "        print(f\"Erro: Arquivo '{filename}' não é um JSON válido.\")\n",
    "        return None"
   ]
  },
  {
   "cell_type": "code",
   "execution_count": 9,
   "metadata": {},
   "outputs": [
    {
     "data": {
      "text/plain": [
       "['Aspergillosis',\n",
       " 'Abscess',\n",
       " 'Acute Bronchitis',\n",
       " 'Viral Infections',\n",
       " 'Vaccines',\n",
       " 'HIV and Infections',\n",
       " 'Anthrax',\n",
       " 'Antibiotic Resistance',\n",
       " 'Antibiotics',\n",
       " 'Meningitis',\n",
       " \"Athlete's Foot\",\n",
       " 'Tick Bites',\n",
       " 'Bacterial Infections',\n",
       " 'Urinary Tract Infections',\n",
       " 'Infection Control',\n",
       " 'Body Lice',\n",
       " 'Germs and Hygiene',\n",
       " 'Bone Infections',\n",
       " 'Botulism',\n",
       " 'Plague',\n",
       " 'C. diff Infections',\n",
       " 'Campylobacter Infections',\n",
       " 'Yeast Infections',\n",
       " 'Cat Scratch Disease',\n",
       " 'Cellulitis',\n",
       " 'Chickenpox',\n",
       " 'Chikungunya',\n",
       " 'Childhood Vaccines',\n",
       " 'Cholera',\n",
       " 'Gonorrhea',\n",
       " 'Cleaning, Disinfecting, and Sanitizing',\n",
       " 'Cytomegalovirus Infections',\n",
       " 'Valley Fever',\n",
       " 'Cold Sores',\n",
       " 'Infectious Diseases',\n",
       " 'Genital Warts',\n",
       " 'Pink Eye',\n",
       " 'COVID-19 (Coronavirus Disease 2019)',\n",
       " 'COVID-19 Vaccines',\n",
       " 'Fungal Infections',\n",
       " 'Diphtheria',\n",
       " 'E. Coli Infections',\n",
       " 'Fever',\n",
       " 'Genital Herpes',\n",
       " 'Rubella',\n",
       " 'Giardia Infections',\n",
       " 'Helicobacter Pylori Infections',\n",
       " 'H1N1 Flu (Swine Flu)',\n",
       " 'Haemophilus Infections',\n",
       " 'Mycobacterial Infections',\n",
       " 'Hantavirus Infections',\n",
       " 'Hemorrhagic Fevers',\n",
       " 'Herpes Simplex',\n",
       " 'HIV: PrEP and PEP',\n",
       " 'HPV',\n",
       " 'Rabies',\n",
       " 'Impetigo',\n",
       " 'Infections and Pregnancy',\n",
       " 'Infectious Arthritis',\n",
       " 'Itching',\n",
       " \"Traveler's Health\",\n",
       " 'Tinea Infections',\n",
       " \"Legionnaires' Disease\",\n",
       " 'Leishmaniasis',\n",
       " 'Listeria Infections',\n",
       " 'Tetanus',\n",
       " 'Malaria',\n",
       " 'Measles',\n",
       " 'MRSA',\n",
       " 'Skin Infections',\n",
       " 'Mumps',\n",
       " 'Norovirus Infections',\n",
       " 'Parasitic Diseases',\n",
       " 'Pelvic Inflammatory Disease',\n",
       " 'Pinworms',\n",
       " 'Warts',\n",
       " 'Pneumococcal Infections',\n",
       " 'Pubic Lice',\n",
       " 'Streptococcal Infections',\n",
       " 'Rotavirus Infections',\n",
       " 'Salmonella Infections',\n",
       " 'Scabies',\n",
       " 'Sinusitis',\n",
       " 'Smallpox',\n",
       " 'Syphilis',\n",
       " 'Toxoplasmosis',\n",
       " 'Trichomoniasis',\n",
       " 'Vaccine Safety',\n",
       " 'West Nile Virus',\n",
       " 'Zika Virus']"
      ]
     },
     "execution_count": 9,
     "metadata": {},
     "output_type": "execute_result"
    }
   ],
   "source": [
    "data = read_json_file('empty_symptoms_keys_Medlineplus.json')"
   ]
  }
 ],
 "metadata": {
  "kernelspec": {
   "display_name": "Python 3",
   "language": "python",
   "name": "python3"
  },
  "language_info": {
   "codemirror_mode": {
    "name": "ipython",
    "version": 3
   },
   "file_extension": ".py",
   "mimetype": "text/x-python",
   "name": "python",
   "nbconvert_exporter": "python",
   "pygments_lexer": "ipython3",
   "version": "3.11.9"
  }
 },
 "nbformat": 4,
 "nbformat_minor": 2
}
