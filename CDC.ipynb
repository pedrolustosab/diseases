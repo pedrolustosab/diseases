{
 "cells": [
  {
   "cell_type": "code",
   "execution_count": 1,
   "metadata": {},
   "outputs": [],
   "source": [
    "# Importando Bibliotecas\n",
    "import requests\n",
    "import re\n",
    "import time\n",
    "import json\n",
    "from bs4 import BeautifulSoup"
   ]
  },
  {
   "cell_type": "code",
   "execution_count": 2,
   "metadata": {},
   "outputs": [],
   "source": [
    "def read_json_file(filename):\n",
    "    \"\"\"Lê um arquivo JSON e retorna os dados como um dicionário ou lista Python.\"\"\"\n",
    "    try:\n",
    "        with open(filename, 'r', encoding='utf-8') as file:\n",
    "            data = json.load(file)\n",
    "        return data\n",
    "    except FileNotFoundError:\n",
    "        print(f\"Erro: Arquivo '{filename}' não encontrado.\")\n",
    "        return None\n",
    "    except json.JSONDecodeError:\n",
    "        print(f\"Erro: Arquivo '{filename}' não é um JSON válido.\")\n",
    "        return None"
   ]
  },
  {
   "cell_type": "code",
   "execution_count": 3,
   "metadata": {},
   "outputs": [],
   "source": [
    "disease_names = read_json_file('empty_symptoms_keys_Medlineplus.json')"
   ]
  },
  {
   "cell_type": "code",
   "execution_count": 4,
   "metadata": {},
   "outputs": [],
   "source": [
    "def clean_disease_name(disease):\n",
    "    \"\"\"Limpa o nome da doença para criar a URL.\"\"\"\n",
    "    return re.sub(\"[^\\w]\", \"\", disease.lower())"
   ]
  },
  {
   "cell_type": "code",
   "execution_count": 5,
   "metadata": {},
   "outputs": [],
   "source": [
    "def fetch_disease_html(link):\n",
    "    \"\"\"Busca o conteúdo HTML da página da doença.\"\"\"\n",
    "    try:\n",
    "        response = requests.get(link)\n",
    "        response.raise_for_status()\n",
    "        return response.content\n",
    "    except requests.exceptions.RequestException as e:\n",
    "        print('Erro ao fazer a requisição:', e)\n",
    "        exit()"
   ]
  },
  {
   "cell_type": "code",
   "execution_count": 6,
   "metadata": {},
   "outputs": [],
   "source": [
    "def get_url(html_content):\n",
    "    \"\"\"Extrai as URL.\"\"\"\n",
    "    soup = BeautifulSoup(html_content, 'html.parser')\n",
    "    section95 = soup.find('div', id='section95')\n",
    "    if not section95:\n",
    "        url = ''\n",
    "    else:\n",
    "        url = section95.find('a')['href']\n",
    "    return url"
   ]
  },
  {
   "cell_type": "code",
   "execution_count": 7,
   "metadata": {},
   "outputs": [],
   "source": [
    "def scrape_disease_url(disease_names):\n",
    "    disease_url = {}\n",
    "    for disease in disease_names:\n",
    "        link = f'https://medlineplus.gov/{clean_disease_name(disease)}.html'\n",
    "        html_content = fetch_disease_html(link)\n",
    "        disease_url[disease] = get_url(html_content)\n",
    "\n",
    "    return disease_url"
   ]
  },
  {
   "cell_type": "code",
   "execution_count": 8,
   "metadata": {},
   "outputs": [],
   "source": [
    "disease_url = scrape_disease_url(disease_names)\n"
   ]
  },
  {
   "cell_type": "code",
   "execution_count": 9,
   "metadata": {},
   "outputs": [
    {
     "data": {
      "text/plain": [
       "{'Aspergillosis': 'https://www.cdc.gov/fungal/diseases/aspergillosis/symptoms.html',\n",
       " 'Anthrax': 'https://www.cdc.gov/anthrax/symptoms/index.html',\n",
       " 'Tick Bites': 'https://www.cdc.gov/ticks/symptoms.html',\n",
       " 'Plague': 'https://www.cdc.gov/plague/symptoms/',\n",
       " 'Chickenpox': 'https://www.cdc.gov/chickenpox/about/symptoms.html',\n",
       " 'Valley Fever': 'https://www.cdc.gov/fungal/diseases/coccidioidomycosis/symptoms.html',\n",
       " 'Haemophilus Infections': 'https://www.cdc.gov/hi-disease/about/symptoms.html',\n",
       " 'Rabies': 'https://www.cdc.gov/rabies/symptoms/',\n",
       " 'Listeria Infections': 'https://www.cdc.gov/listeria/symptoms.html',\n",
       " 'Tetanus': 'https://www.cdc.gov/tetanus/about/symptoms-complications.html',\n",
       " 'Measles': 'https://www.cdc.gov/measles/symptoms/signs-symptoms.html',\n",
       " 'Mumps': 'https://www.cdc.gov/mumps/about/signs-symptoms.html',\n",
       " 'Norovirus Infections': 'https://www.cdc.gov/norovirus/about/symptoms.html',\n",
       " 'Pneumococcal Infections': 'https://www.cdc.gov/pneumococcal/about/symptoms-complications.html',\n",
       " 'Rotavirus Infections': 'https://www.cdc.gov/rotavirus/about/symptoms.html',\n",
       " 'Scabies': 'https://www.cdc.gov/parasites/scabies/disease.html',\n",
       " 'Smallpox': 'https://www.cdc.gov/smallpox/symptoms/index.html',\n",
       " 'Toxoplasmosis': 'https://www.cdc.gov/parasites/toxoplasmosis/disease.html',\n",
       " 'West Nile Virus': 'https://www.cdc.gov/westnile/symptoms/index.html',\n",
       " 'Zika Virus': 'https://www.cdc.gov/zika/symptoms/symptoms.html'}"
      ]
     },
     "execution_count": 9,
     "metadata": {},
     "output_type": "execute_result"
    }
   ],
   "source": [
    "# Cria um novo dicionário com as entradas que contêm \"cdc\" na URL\n",
    "disease_url_cdc = {key: value for key, value in disease_url.items() if 'cdc' in value}\n",
    "\n",
    "# Exibe o novo dicionário\n",
    "disease_url_cdc"
   ]
  }
 ],
 "metadata": {
  "kernelspec": {
   "display_name": "Python 3",
   "language": "python",
   "name": "python3"
  },
  "language_info": {
   "codemirror_mode": {
    "name": "ipython",
    "version": 3
   },
   "file_extension": ".py",
   "mimetype": "text/x-python",
   "name": "python",
   "nbconvert_exporter": "python",
   "pygments_lexer": "ipython3",
   "version": "3.11.9"
  }
 },
 "nbformat": 4,
 "nbformat_minor": 2
}
