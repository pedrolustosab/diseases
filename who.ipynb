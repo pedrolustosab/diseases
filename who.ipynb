{
  "cells": [
    {
      "cell_type": "code",
      "execution_count": 1,
      "metadata": {
        "id": "QrJBqKBvmgf1"
      },
      "outputs": [
        {
          "name": "stderr",
          "output_type": "stream",
          "text": [
            "c:\\Users\\PedroLustosa\\AppData\\Local\\Programs\\Python\\Python311\\Lib\\site-packages\\tqdm\\auto.py:21: TqdmWarning: IProgress not found. Please update jupyter and ipywidgets. See https://ipywidgets.readthedocs.io/en/stable/user_install.html\n",
            "  from .autonotebook import tqdm as notebook_tqdm\n"
          ]
        }
      ],
      "source": [
        "# Importando Bibliotecas\n",
        "import requests\n",
        "import re\n",
        "import time\n",
        "import json\n",
        "from bs4 import BeautifulSoup\n",
        "import google.generativeai as genai\n",
        "import os\n",
        "from dotenv import load_dotenv\n",
        "import google.generativeai as genai"
      ]
    },
    {
      "cell_type": "code",
      "execution_count": 2,
      "metadata": {
        "id": "GcW-5w3KnFdi"
      },
      "outputs": [],
      "source": [
        "# URL\n",
        "diseases_url = \"https://www.who.int/news-room/fact-sheets\"\n",
        "\n",
        "# Requisição\n",
        "try:\n",
        "    response = requests.get(diseases_url)\n",
        "    response.raise_for_status()  # Lança uma exceção se ocorrer um erro HTTP\n",
        "except requests.exceptions.RequestException as e:\n",
        "    print('Erro ao fazer a requisição:', e)\n",
        "    exit()\n",
        "\n",
        "diseases_html = BeautifulSoup(response.content, 'html.parser')"
      ]
    },
    {
      "cell_type": "code",
      "execution_count": 3,
      "metadata": {},
      "outputs": [],
      "source": [
        "# Encontrar todos os elementos com a classe \"item\"\n",
        "items = diseases_html.find_all('p')\n",
        "\n",
        "# Inicializar uma lista para armazenar as doenças\n",
        "diseases = []\n",
        "\n",
        "# Exibir os textos dos elementos <a> dentro dos elementos com a classe \"item\"\n",
        "for item in items:\n",
        "        disease = item.text\n",
        "        diseases.append(disease)\n",
        "\n"
      ]
    },
    {
      "cell_type": "code",
      "execution_count": 4,
      "metadata": {},
      "outputs": [],
      "source": [
        "# Carrega as variáveis de ambiente do arquivo .env\n",
        "load_dotenv()\n",
        "\n",
        "# Acessa a chave de API do Gemini\n",
        "GEMINI_API_KEY  = os.getenv(\"GEMINI_API_KEY\")\n",
        "genai.configure(api_key=GEMINI_API_KEY)\n",
        "\n",
        "# Define o modelo\n",
        "generation_config = {\n",
        "  \"temperature\": 0.3,\n",
        "}\n",
        "\n",
        "safety_settings={\n",
        "    'HATE': 'BLOCK_NONE',\n",
        "    'HARASSMENT': 'BLOCK_NONE',\n",
        "    'SEXUAL' : 'BLOCK_NONE',\n",
        "    'DANGEROUS' : 'BLOCK_NONE'\n",
        "    }\n",
        "\n",
        "instruction = \"\"\"You are an expert medical professional, equipped with comprehensive knowledge of human diseases and their symptoms\n",
        "You create correct and simple symptoms list that is easy to understand.\n",
        "Without title\n",
        "Without comments\n",
        "\"\"\"\n",
        "\n",
        "model = genai.GenerativeModel(model_name=\"gemini-1.5-pro\",\n",
        "                              generation_config=generation_config,\n",
        "                              safety_settings=safety_settings,\n",
        "                              system_instruction=instruction)"
      ]
    },
    {
      "cell_type": "code",
      "execution_count": 5,
      "metadata": {},
      "outputs": [],
      "source": [
        "# Inicialização de dicionário para armazenar sintomas das doenças e lista para erros\n",
        "disease_symptoms = {}  # Dicionário para armazenar os sintomas associados a cada doença\n",
        "disease_error = []  # Lista para armazenar erros ocorridos durante o processamento das doenças\n"
      ]
    },
    {
      "cell_type": "code",
      "execution_count": 6,
      "metadata": {},
      "outputs": [],
      "source": [
        "def fetch_disease_info(disease):\n",
        "    \"\"\"\n",
        "    Função para obter informações de uma doença a partir da URL da WHO.\n",
        "    \n",
        "    Parâmetros:\n",
        "    disease (str): Nome da doença\n",
        "    \n",
        "    Retorna:\n",
        "    response (requests.Response): Resposta da requisição HTTP\n",
        "    ou\n",
        "    None: Se ocorrer um erro na requisição\n",
        "    \"\"\"\n",
        "    # Limpa e formata o nome da doença para criar a URL\n",
        "    # Substitui espaços por hífens e remove caracteres não alfanuméricos e hífens\n",
        "    disease_clear = re.sub(r\"[^a-z0-9-]\", \"\", disease.lower().replace(\" \", \"-\"))\n",
        "    disease_html = f'https://www.who.int/news-room/fact-sheets/detail/{disease_clear}'\n",
        "\n",
        "    try:\n",
        "        # Faz uma requisição HTTP para obter o conteúdo da página da doença\n",
        "        response = requests.get(disease_html)\n",
        "        # Verifica se a requisição foi bem-sucedida\n",
        "        response.raise_for_status()  # Lança uma exceção se ocorrer um erro HTTP\n",
        "    except requests.exceptions.RequestException as e:\n",
        "        # Em caso de erro na requisição, adiciona o erro à lista e retorna None\n",
        "        disease_error.append(e)\n",
        "        return None\n",
        "    \n",
        "    # Aguarda 1 segundo para evitar sobrecarga no servidor\n",
        "    time.sleep(1)\n",
        "    return response\n"
      ]
    },
    {
      "cell_type": "code",
      "execution_count": 7,
      "metadata": {},
      "outputs": [],
      "source": [
        "def parse_symptoms(response_content):\n",
        "    \"\"\"\n",
        "    Função para analisar o conteúdo HTML e extrair os sintomas.\n",
        "\n",
        "    Parâmetros:\n",
        "    response_content (str): Conteúdo HTML da página da doença\n",
        "\n",
        "    Retorna:\n",
        "    symptoms (str): String contendo os sintomas extraídos\n",
        "    \"\"\"\n",
        "    # Cria um objeto BeautifulSoup para analisar o conteúdo HTML\n",
        "    soup = BeautifulSoup(response_content, 'html.parser')\n",
        "\n",
        "    # Procura um cabeçalho <h2> que contenha as palavras 'consequences' ou 'symptoms'\n",
        "    symptoms_header = soup.find('h2', string=re.compile(r'consequences|symptoms', re.IGNORECASE))\n",
        "    \n",
        "    # Se não encontrar um cabeçalho de sintomas, retorna uma string vazia\n",
        "    if not symptoms_header:\n",
        "        return ''\n",
        "\n",
        "    # Inicializa uma string vazia para armazenar os sintomas\n",
        "    symptoms = ''\n",
        "    \n",
        "    # Encontra o próximo elemento após o cabeçalho de sintomas\n",
        "    current_element = symptoms_header.find_next_sibling()\n",
        "    \n",
        "    # Itera sobre os elementos subsequentes até encontrar outro cabeçalho <h2> ou o fim do documento\n",
        "    while current_element and current_element.name != 'h2':\n",
        "        # Adiciona o texto do elemento atual à string de sintomas\n",
        "        symptoms += current_element.text\n",
        "        # Passa para o próximo elemento\n",
        "        current_element = current_element.find_next_sibling()\n",
        "    \n",
        "    # Retorna a string contendo os sintomas extraídos\n",
        "    return symptoms\n"
      ]
    },
    {
      "cell_type": "code",
      "execution_count": 8,
      "metadata": {},
      "outputs": [],
      "source": [
        "def generate_summary(symptoms):\n",
        "    \"\"\"\n",
        "    Função para gerar um resumo dos sintomas usando um modelo generativo.\n",
        "\n",
        "    Parâmetros:\n",
        "    symptoms (str): String contendo os sintomas\n",
        "\n",
        "    Retorna:\n",
        "    symptoms_final (str): Resumo dos sintomas gerado pelo modelo\n",
        "    \"\"\"\n",
        "    # Cria um prompt para o modelo generativo\n",
        "    prompt = f'Summarize {symptoms} in just bulletpoints, without titles, about health symptoms with few words.'\n",
        "    \n",
        "    # Chama o modelo generativo para gerar um resumo\n",
        "    response = model.generate_content(prompt)\n",
        "    \n",
        "    # Remove caracteres que não sejam letras ou espaços do resumo gerado\n",
        "    symptoms_final = re.sub(r\"[^a-zA-Z\\s]\", \"\", response.text)\n",
        "    \n",
        "    # Retorna o resumo dos sintomas final\n",
        "    return symptoms_final\n",
        "\n"
      ]
    },
    {
      "cell_type": "code",
      "execution_count": 9,
      "metadata": {},
      "outputs": [],
      "source": [
        "for disease in diseases:\n",
        "    response = fetch_disease_info(disease)\n",
        "\n",
        "    # Verifica se a resposta é válida (diferente de None ou False)\n",
        "    if response and response.content:  # Verifica se há conteúdo na resposta\n",
        "        symptoms = parse_symptoms(response.content)\n",
        "\n",
        "        # Processa os sintomas apenas se não for uma string vazia\n",
        "        if symptoms:  \n",
        "            summary = generate_summary(symptoms)\n",
        "            # Divide o resumo em uma lista de sintomas, removendo espaços em branco\n",
        "            disease_symptoms[disease] = [item.strip() for item in summary.split('\\n') if item.strip()]\n",
        "        else:\n",
        "            # Se não houver sintomas, armazena uma lista vazia\n",
        "            disease_symptoms[disease] = []  \n",
        "    else:\n",
        "        # Se a resposta não for válida, armazena uma lista vazia\n",
        "        disease_symptoms[disease] = []\n",
        "\n",
        "    time.sleep(20)  # Aguarda 20 segundos para evitar sobrecarga no servidor\n"
      ]
    },
    {
      "cell_type": "code",
      "execution_count": 15,
      "metadata": {},
      "outputs": [
        {
          "name": "stdout",
          "output_type": "stream",
          "text": [
            "151\n"
          ]
        }
      ],
      "source": [
        "# Cria uma lista com as chaves do dicionário disease_symptoms cujos valores são listas vazias\n",
        "empty_symptoms_keys = [key for key, value in disease_symptoms.items() if not value]\n",
        "\n",
        "# Imprime o número de chaves com valores vazios\n",
        "print(len(empty_symptoms_keys))\n"
      ]
    },
    {
      "cell_type": "code",
      "execution_count": 11,
      "metadata": {},
      "outputs": [],
      "source": [
        "# Salvar o dicionário filtrado em um arquivo JSON\n",
        "with open(\"empty_symptoms_who.json\", \"w\") as json_file:\n",
        "    json.dump(empty_symptoms_keys, json_file, indent=4)"
      ]
    },
    {
      "cell_type": "code",
      "execution_count": 12,
      "metadata": {},
      "outputs": [],
      "source": [
        "# Filtrar doenças com sintomas não vazios\n",
        "filtered_diseases_symptoms = {disease: symptoms for disease, symptoms in disease_symptoms.items() if symptoms}"
      ]
    },
    {
      "cell_type": "code",
      "execution_count": 13,
      "metadata": {},
      "outputs": [
        {
          "name": "stdout",
          "output_type": "stream",
          "text": [
            "Número de elementos no dicionário filtrado: 70\n"
          ]
        }
      ],
      "source": [
        "# Contar o número de elementos no dicionário filtrado\n",
        "num_elements = len(filtered_diseases_symptoms)\n",
        "print(\"Número de elementos no dicionário filtrado:\", num_elements)"
      ]
    },
    {
      "cell_type": "code",
      "execution_count": 14,
      "metadata": {},
      "outputs": [],
      "source": [
        "# Salvar o dicionário filtrado em um arquivo JSON\n",
        "with open(\"diseases_symptoms_who.json\", \"w\") as json_file:\n",
        "    json.dump(filtered_diseases_symptoms, json_file, indent=4)"
      ]
    }
  ],
  "metadata": {
    "colab": {
      "authorship_tag": "ABX9TyP8nvgDRnF8x/zijlLNOUcc",
      "include_colab_link": true,
      "provenance": []
    },
    "kernelspec": {
      "display_name": "Python 3",
      "name": "python3"
    },
    "language_info": {
      "codemirror_mode": {
        "name": "ipython",
        "version": 3
      },
      "file_extension": ".py",
      "mimetype": "text/x-python",
      "name": "python",
      "nbconvert_exporter": "python",
      "pygments_lexer": "ipython3",
      "version": "3.11.9"
    }
  },
  "nbformat": 4,
  "nbformat_minor": 0
}
