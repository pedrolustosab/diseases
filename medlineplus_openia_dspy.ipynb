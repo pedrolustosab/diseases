{
 "cells": [
  {
   "cell_type": "code",
   "execution_count": 1,
   "id": "a14c3f17",
   "metadata": {
    "ExecuteTime": {
     "end_time": "2024-05-24T15:25:00.736169Z",
     "start_time": "2024-05-24T15:25:00.405536Z"
    }
   },
   "outputs": [
    {
     "name": "stderr",
     "output_type": "stream",
     "text": [
      "c:\\Users\\PedroLustosa\\AppData\\Local\\Programs\\Python\\Python311\\Lib\\site-packages\\tqdm\\auto.py:21: TqdmWarning: IProgress not found. Please update jupyter and ipywidgets. See https://ipywidgets.readthedocs.io/en/stable/user_install.html\n",
      "  from .autonotebook import tqdm as notebook_tqdm\n"
     ]
    }
   ],
   "source": [
    "import dspy\n",
    "import hashlib\n",
    "from tqdm import tqdm\n",
    "import chromadb\n",
    "import weaviate\n",
    "from dspy.retrieve.weaviate_rm import WeaviateRM\n",
    "import tiktoken\n",
    "encoding = tiktoken.get_encoding(\"cl100k_base\")\n",
    "encoding = tiktoken.encoding_for_model(\"gpt-3.5-turbo\")\n",
    "from dspy.teleprompt import BootstrapFewShot "
   ]
  },
  {
   "cell_type": "code",
   "execution_count": 2,
   "id": "5bca944e",
   "metadata": {},
   "outputs": [],
   "source": [
    "import time\n",
    "import json\n"
   ]
  },
  {
   "cell_type": "code",
   "execution_count": 3,
   "id": "8352e000",
   "metadata": {},
   "outputs": [],
   "source": [
    "import os\n",
    "from dotenv import load_dotenv\n",
    "import openai\n",
    "from openai import OpenAI\n",
    "from dotenv import load_dotenv\n",
    "\n",
    "# Acessa a chave de API\n",
    "secretk = os.getenv(\"OPENAI_API_KEY\")\n",
    "\n",
    "#client = OpenAI(api_key=secretk)\n",
    "openai.api_key = secretk\n",
    "client = OpenAI(api_key=secretk)\n"
   ]
  },
  {
   "cell_type": "code",
   "execution_count": 4,
   "id": "d15ec3f7",
   "metadata": {},
   "outputs": [],
   "source": [
    "def create_few_shot_from_json(file_path, limit=10):\n",
    "    \"\"\"\n",
    "    Carrega exemplos few-shot a partir de um arquivo JSON, com limite opcional.\n",
    "\n",
    "    Args:\n",
    "        file_path: O caminho para o arquivo JSON contendo os dados.\n",
    "        limit: O número máximo de exemplos a serem retornados (padrão: 10).\n",
    "\n",
    "    Returns:\n",
    "        Uma lista de listas formatadas para few-shot learning, limitada ao número especificado.\n",
    "    \"\"\"\n",
    "    try:\n",
    "        with open(file_path, 'r') as file:\n",
    "            data_dict = json.load(file)\n",
    "\n",
    "        # Converter o dicionário em uma lista de listas e limitar o número de exemplos\n",
    "        few_shot = [[key, \", \".join(map(str, value))] for key, value in data_dict.items()][:limit]\n",
    "        \n",
    "        return few_shot\n",
    "    except FileNotFoundError:\n",
    "        print(f\"Arquivo não encontrado: {file_path}\")\n",
    "        return []\n",
    "    except json.JSONDecodeError:\n",
    "        print(f\"Erro ao decodificar o JSON em: {file_path}\")\n",
    "        return []\n",
    "\n",
    "\n"
   ]
  },
  {
   "cell_type": "code",
   "execution_count": 5,
   "id": "2b70888f",
   "metadata": {},
   "outputs": [
    {
     "data": {
      "text/plain": [
       "[['HIV',\n",
       "  'Fever, Chills, Rash, Night sweats (heavy sweating during sleep), Muscle aches, Sore throat, Fatigue, Swollen lymph nodes, Mouth ulcers'],\n",
       " ['Acute Flaccid Myelitis',\n",
       "  'Arm or leg weakness, A loss of muscle tone and reflexes, Facial drooping/weakness, Trouble moving the eyes, Drooping eyelids, Trouble swallowing, Slurred speech, Pain in the arms, legs, back, or neck'],\n",
       " ['Bird Flu',\n",
       "  'Fever (but not everyone has a fever), Cough, Sore throat, Runny or stuffy nose, Muscle or body aches, Fatigue, Headaches, Eye redness (conjunctivitis), Trouble breathing, Diarrhea'],\n",
       " ['Sepsis',\n",
       "  'Rapid breathing and heart rate, Shortness of breath, Confusion or disorientation, Extreme pain or discomfort, Fever, shivering, or feeling very cold, Clammy or sweaty skin'],\n",
       " ['Dengue',\n",
       "  'A high fever, Nausea and vomiting, Rash, Aches and pains (eye pain, usually behind the eyes, and pain in the muscles, joints, or bones), Severe abdominal (belly) pain and tenderness, Vomiting at least 3 times in 24 hours, Bleeding from the nose or gums, Vomiting blood, or blood in the stool (poop), Feeling tired, restless, or irritable'],\n",
       " ['Respiratory Syncytial Virus Infections',\n",
       "  'Runny nose, Decrease in appetite, Cough, Sneezing, Fever, Wheezing'],\n",
       " ['Chronic Bronchitis',\n",
       "  'Frequent coughing or a cough that produces a lot mucus, Wheezing, A whistling or squeaky sound when you breathe, Shortness of breath, especially with physical activity, Tightness in your chest'],\n",
       " ['Pneumonia',\n",
       "  'Fever, Chills, Cough, usually with phlegm (a type of thick mucus made in your lungs), Shortness of breath, Chest pain when you breathe or cough, Nausea and/or vomiting, Diarrhea'],\n",
       " ['Myalgic Encephalomyelitis/Chronic Fatigue Syndrome',\n",
       "  'Not being able to do activities that you used to do before the illness, along with severe fatigue. The fatigue must last six months or longer, and it is not improved by rest., Post-exertional malaise (PEM), which means that your symptoms get worse after any physical or mental activity., Sleep problems., Problems with thinking and memory., Worsening of symptoms while standing or sitting upright. This is called orthostatic intolerance. It can cause you to feel lightheaded, dizzy, weak, or faint while standing or sitting up., Pain, including muscle pain, joint pain, and headaches, Sore throat, Tender lymph nodes (glands) in the neck or armpits, Digestive issues, like irritable bowel syndrome, Chills and night sweats, Allergies and sensitivities to foods, odors, chemicals, light, or noise'],\n",
       " ['Chagas Disease',\n",
       "  \"Fever, Fatigue, Body aches, Headache, Loss of appetite, Diarrhea, Vomiting, A rash, A swollen eyelid, An  serious arrhythmia (a problem with the rate or rhythm of your heartbeat) that can cause sudden death, An enlarged heart that doesn't pump blood well, Problems with digestion and bowel movements, An increased chance of having a stroke\"]]"
      ]
     },
     "execution_count": 5,
     "metadata": {},
     "output_type": "execute_result"
    }
   ],
   "source": [
    "# Uso da função\n",
    "few_shot = create_few_shot_from_json('filtered_diseases_symptoms_Medlineplus.json', limit=10)\n",
    "few_shot"
   ]
  },
  {
   "cell_type": "code",
   "execution_count": 6,
   "id": "347c84ae",
   "metadata": {
    "ExecuteTime": {
     "end_time": "2024-05-24T14:04:56.297286Z",
     "start_time": "2024-05-24T14:04:56.292429Z"
    }
   },
   "outputs": [],
   "source": [
    "treino = [dspy.Example(question=few_shot[x][0], \n",
    "                       answer=few_shot[x][1]).with_inputs(\"question\")\n",
    "                                                 for x in range(len(few_shot))]"
   ]
  },
  {
   "cell_type": "code",
   "execution_count": 7,
   "id": "d1484e5a",
   "metadata": {
    "ExecuteTime": {
     "end_time": "2024-05-24T14:05:24.039824Z",
     "start_time": "2024-05-24T14:05:24.034574Z"
    }
   },
   "outputs": [
    {
     "data": {
      "text/plain": [
       "Example({'question': 'HIV', 'answer': 'Fever, Chills, Rash, Night sweats (heavy sweating during sleep), Muscle aches, Sore throat, Fatigue, Swollen lymph nodes, Mouth ulcers'}) (input_keys={'question'})"
      ]
     },
     "execution_count": 7,
     "metadata": {},
     "output_type": "execute_result"
    }
   ],
   "source": [
    "treino[0]"
   ]
  },
  {
   "cell_type": "code",
   "execution_count": 8,
   "id": "8d41ef17",
   "metadata": {
    "ExecuteTime": {
     "end_time": "2024-05-24T14:25:23.519330Z",
     "start_time": "2024-05-24T14:25:23.515678Z"
    }
   },
   "outputs": [],
   "source": [
    "gpt35 = dspy.OpenAI(model=\"gpt-3.5-turbo-0125\", model_type=\"chat\", max_tokens=400, temperature=.4)\n",
    "dspy.settings.configure(lm=gpt35)"
   ]
  },
  {
   "cell_type": "code",
   "execution_count": 9,
   "id": "d3272c95",
   "metadata": {
    "ExecuteTime": {
     "end_time": "2024-05-24T14:25:24.554215Z",
     "start_time": "2024-05-24T14:25:24.549344Z"
    }
   },
   "outputs": [],
   "source": [
    "class CoT(dspy.Module):\n",
    "    def __init__(self):\n",
    "        self.sabatina = dspy.ChainOfThought(\"question -> answer\")\n",
    "    \n",
    "    def forward(self, question):\n",
    "        return self.sabatina(question=question)"
   ]
  },
  {
   "cell_type": "code",
   "execution_count": 10,
   "id": "850494f2",
   "metadata": {
    "ExecuteTime": {
     "end_time": "2024-05-24T14:26:10.861561Z",
     "start_time": "2024-05-24T14:26:10.858315Z"
    }
   },
   "outputs": [],
   "source": [
    "config = dict(max_bootstrapped_demos=5, max_labeled_demos=5)\n",
    "otimizador = BootstrapFewShot(**config)"
   ]
  },
  {
   "cell_type": "code",
   "execution_count": 11,
   "id": "61c9c8fe",
   "metadata": {
    "ExecuteTime": {
     "end_time": "2024-05-24T14:26:56.241448Z",
     "start_time": "2024-05-24T14:26:13.197556Z"
    }
   },
   "outputs": [
    {
     "name": "stderr",
     "output_type": "stream",
     "text": [
      " 50%|█████     | 5/10 [00:00<00:00, 30.16it/s]"
     ]
    },
    {
     "name": "stdout",
     "output_type": "stream",
     "text": [
      "Bootstrapped 5 full traces after 6 examples in round 0.\n"
     ]
    },
    {
     "name": "stderr",
     "output_type": "stream",
     "text": [
      "\n"
     ]
    }
   ],
   "source": [
    "modelo = otimizador.compile(CoT(), trainset=treino)"
   ]
  },
  {
   "cell_type": "code",
   "execution_count": 12,
   "id": "c901cea3",
   "metadata": {},
   "outputs": [
    {
     "data": {
      "text/plain": [
       "Prediction(\n",
       "    rationale='produce the answer. We know that Chikungunya is a viral disease transmitted to humans by infected mosquitoes. Symptoms typically include fever, joint pain, headache, muscle pain, joint swelling, and rash.',\n",
       "    answer='Fever, Joint pain, Headache, Muscle pain, Joint swelling, Rash'\n",
       ")"
      ]
     },
     "execution_count": 12,
     "metadata": {},
     "output_type": "execute_result"
    }
   ],
   "source": [
    "modelo(question='Chikungunya')"
   ]
  },
  {
   "cell_type": "code",
   "execution_count": 13,
   "id": "d0bf1bd6",
   "metadata": {
    "ExecuteTime": {
     "end_time": "2024-05-24T14:17:40.959041Z",
     "start_time": "2024-05-24T14:17:38.042388Z"
    }
   },
   "outputs": [
    {
     "data": {
      "text/plain": [
       "Prediction(\n",
       "    rationale='produce the answer. Aspergillosis is a fungal infection caused by the Aspergillus mold, so the symptoms will likely involve respiratory issues and can vary depending on the type of aspergillosis (allergic bronchopulmonary aspergillosis, chronic pulmonary aspergillosis, invasive aspergillosis).',\n",
       "    answer='Cough, Wheezing, Shortness of breath, Fever, Chest pain, Sinusitis symptoms (nasal congestion, runny nose, headache), Fatigue, Unintentional weight loss, Coughing up blood'\n",
       ")"
      ]
     },
     "execution_count": 13,
     "metadata": {},
     "output_type": "execute_result"
    }
   ],
   "source": [
    "modelo(question='Aspergillosis')"
   ]
  }
 ],
 "metadata": {
  "kernelspec": {
   "display_name": "Python 3",
   "language": "python",
   "name": "python3"
  },
  "language_info": {
   "codemirror_mode": {
    "name": "ipython",
    "version": 3
   },
   "file_extension": ".py",
   "mimetype": "text/x-python",
   "name": "python",
   "nbconvert_exporter": "python",
   "pygments_lexer": "ipython3",
   "version": "3.11.9"
  },
  "nbTranslate": {
   "displayLangs": [
    "*"
   ],
   "hotkey": "alt-t",
   "langInMainMenu": true,
   "sourceLang": "en",
   "targetLang": "fr",
   "useGoogleTranslate": true
  },
  "toc": {
   "base_numbering": 1,
   "nav_menu": {},
   "number_sections": true,
   "sideBar": false,
   "skip_h1_title": false,
   "title_cell": "Table of Contents",
   "title_sidebar": "Contents",
   "toc_cell": false,
   "toc_position": {},
   "toc_section_display": true,
   "toc_window_display": false
  }
 },
 "nbformat": 4,
 "nbformat_minor": 5
}
