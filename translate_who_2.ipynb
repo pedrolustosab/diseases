{
  "nbformat": 4,
  "nbformat_minor": 0,
  "metadata": {
    "colab": {
      "provenance": []
    },
    "kernelspec": {
      "name": "python3",
      "display_name": "Python 3"
    },
    "language_info": {
      "name": "python"
    }
  },
  "cells": [
    {
      "cell_type": "code",
      "execution_count": 8,
      "metadata": {
        "id": "JBKiinsDq9TR"
      },
      "outputs": [],
      "source": [
        "import json\n",
        "from translate import Translator\n",
        "from json import JSONDecodeError"
      ]
    },
    {
      "cell_type": "code",
      "source": [
        "def readJson(nome_arquivo):\n",
        "    \"\"\"Lê um arquivo JSON e retorna um DataFrame com colunas 'Disease' e 'Symptom'.\"\"\"\n",
        "    try:\n",
        "        with open(nome_arquivo, 'r', encoding='utf-8') as arquivo:\n",
        "            dados = json.load(arquivo)\n",
        "        return dados\n",
        "\n",
        "    except FileNotFoundError:\n",
        "        print(f\"Erro: Arquivo '{nome_arquivo}' não encontrado.\")\n",
        "        return None\n",
        "    except json.JSONDecodeError:\n",
        "        print(f\"Erro: Arquivo '{nome_arquivo}' não é um JSON válido.\")\n",
        "        return None"
      ],
      "metadata": {
        "id": "h_EysLNFrW1V"
      },
      "execution_count": 9,
      "outputs": []
    },
    {
      "cell_type": "code",
      "source": [
        "who = readJson('symptoms_who_2.json')"
      ],
      "metadata": {
        "id": "gVlNXdLcrd_F"
      },
      "execution_count": 10,
      "outputs": []
    },
    {
      "cell_type": "code",
      "source": [
        "# Função para traduzir o texto\n",
        "def translate_text(text, src_lang='en', dest_lang='pt'):\n",
        "    translator = Translator(from_lang=src_lang, to_lang=dest_lang)\n",
        "    return translator.translate(text)"
      ],
      "metadata": {
        "id": "a1QO6RJmrg-2"
      },
      "execution_count": 11,
      "outputs": []
    },
    {
      "cell_type": "code",
      "source": [
        "# Função para traduzir o Json\n",
        "def translate_json(nameJson):\n",
        "    translated_json = {}\n",
        "    for disease, symptoms in nameJson.items():\n",
        "        translated_disease = translate_text(disease)\n",
        "        translated_symptoms = [translate_text(symptom) for symptom in symptoms]\n",
        "        translated_json[translated_disease] = translated_symptoms\n",
        "    return translated_json"
      ],
      "metadata": {
        "id": "h3NwGQeXrjaK"
      },
      "execution_count": 12,
      "outputs": []
    },
    {
      "cell_type": "code",
      "source": [
        "translated_who = translate_json(who)"
      ],
      "metadata": {
        "id": "zUHM9KNBrluM"
      },
      "execution_count": 13,
      "outputs": []
    },
    {
      "cell_type": "code",
      "source": [
        "# Salvar o dicionário filtrado em um arquivo JSON\n",
        "with open(\"translated_who_2.json\", \"w\") as json_file:\n",
        "    json.dump(translated_who, json_file, indent=4)"
      ],
      "metadata": {
        "id": "5D9xNX3XrnhO"
      },
      "execution_count": 15,
      "outputs": []
    }
  ]
}