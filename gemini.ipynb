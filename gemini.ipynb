{
 "cells": [
  {
   "cell_type": "code",
   "execution_count": 23,
   "metadata": {},
   "outputs": [],
   "source": [
    "import os\n",
    "from dotenv import load_dotenv\n",
    "import google.generativeai as genai\n",
    "from google.api_core.exceptions import ResourceExhausted\n",
    "import time\n",
    "import json\n",
    "from json import JSONDecodeError\n",
    "import re\n",
    "from tqdm import tqdm"
   ]
  },
  {
   "cell_type": "code",
   "execution_count": 2,
   "metadata": {},
   "outputs": [],
   "source": [
    "# Carrega as variáveis de ambiente do arquivo .env\n",
    "load_dotenv()\n",
    "\n",
    "# Acessa a chave de API do Gemini\n",
    "GEMINI_API_KEY  = os.getenv(\"GEMINI_API_KEY\")\n",
    "genai.configure(api_key=GEMINI_API_KEY)\n",
    "\n",
    "# Define o modelo\n",
    "generation_config = {\n",
    "  \"temperature\": 0.3,\n",
    "}\n",
    "\n",
    "safety_settings={\n",
    "    'HATE': 'BLOCK_NONE',\n",
    "    'HARASSMENT': 'BLOCK_NONE',\n",
    "    'SEXUAL' : 'BLOCK_NONE',\n",
    "    'DANGEROUS' : 'BLOCK_NONE'\n",
    "    }\n"
   ]
  },
  {
   "cell_type": "code",
   "execution_count": 3,
   "metadata": {},
   "outputs": [],
   "source": [
    "def load_diseases_from_json(file_path):\n",
    "    \"\"\"\n",
    "    Carrega as doenças de um arquivo JSON, que pode ser uma lista ou um dicionário.\n",
    "\n",
    "    Args:\n",
    "        file_path (str): O caminho para o arquivo JSON.\n",
    "\n",
    "    Returns:\n",
    "        list: Uma lista contendo as doenças.\n",
    "    \"\"\"\n",
    "    try:\n",
    "        with open(file_path, 'r', encoding='utf-8') as file:\n",
    "            data = json.load(file)\n",
    "\n",
    "        if isinstance(data, list):  # Verifica se é uma lista\n",
    "            return data  # Se for lista, retorna diretamente\n",
    "        elif isinstance(data, dict):  # Verifica se é um dicionário\n",
    "            return list(data.keys())  # Se for dicionário, retorna as chaves\n",
    "\n",
    "    except FileNotFoundError:\n",
    "        print(f\"Erro: Arquivo '{file_path}' não encontrado.\")\n",
    "        return []\n",
    "    except json.JSONDecodeError:\n",
    "        print(f\"Erro: Falha ao decodificar o JSON em '{file_path}'.\")\n",
    "        return []\n"
   ]
  },
  {
   "cell_type": "code",
   "execution_count": 4,
   "metadata": {},
   "outputs": [
    {
     "name": "stdout",
     "output_type": "stream",
     "text": [
      "90\n",
      "151\n"
     ]
    }
   ],
   "source": [
    "diseases_medline = load_diseases_from_json('empty_symptoms_medline.json')\n",
    "print(len(diseases_medline))\n",
    "diseases_who = load_diseases_from_json('empty_symptoms_who.json')\n",
    "print(len(diseases_who))"
   ]
  },
  {
   "cell_type": "code",
   "execution_count": 5,
   "metadata": {},
   "outputs": [],
   "source": [
    "def merge_disease_lists(list1, list2):\n",
    "    \"\"\"\n",
    "    Mescla duas listas de doenças, priorizando a primeira lista em caso de duplicatas.\n",
    "\n",
    "    Argumentos:\n",
    "        list1 (list): A primeira lista de doenças.\n",
    "        list2 (list): A segunda lista de doenças.\n",
    "\n",
    "    Retorna:\n",
    "        list: Uma lista mesclada de doenças, priorizando a primeira lista em caso de duplicatas.\n",
    "    \"\"\"\n",
    "    # Use um conjunto para verificação rápida de duplicatas\n",
    "    disease_set = set(list1)\n",
    "    merged_list = list1.copy()  # Comece com a primeira lista\n",
    "    \n",
    "    # Adicione doenças da segunda lista se elas não estiverem na primeira lista\n",
    "    for disease in list2:\n",
    "        if disease not in disease_set:\n",
    "            merged_list.append(disease)\n",
    "            disease_set.add(disease)\n",
    "    \n",
    "    return merged_list\n",
    "\n"
   ]
  },
  {
   "cell_type": "code",
   "execution_count": 6,
   "metadata": {},
   "outputs": [
    {
     "data": {
      "text/plain": [
       "240"
      ]
     },
     "execution_count": 6,
     "metadata": {},
     "output_type": "execute_result"
    }
   ],
   "source": [
    "diseases_raw = merge_disease_lists(diseases_medline, diseases_who)\n",
    "len(diseases_raw)"
   ]
  },
  {
   "cell_type": "code",
   "execution_count": 7,
   "metadata": {},
   "outputs": [],
   "source": [
    "model_diseases = genai.GenerativeModel(model_name=\"gemini-1.0-pro\",      \n",
    "                              generation_config=generation_config,\n",
    "                              safety_settings=safety_settings)"
   ]
  },
  {
   "cell_type": "code",
   "execution_count": 8,
   "metadata": {},
   "outputs": [],
   "source": [
    "def is_disease(disease: str, model_diseases=model_diseases) -> bool:\n",
    "    \"\"\"\n",
    "    Verifica se um determinado nome corresponde a uma doença, usando um modelo especificado ou um padrão.\n",
    "\n",
    "    Args:\n",
    "        nome (str): O nome a ser verificado.\n",
    "        modelo_doencas: O modelo de classificação de doenças (opcional).\n",
    "            Se None, tenta usar um 'modelo_doencas' global, se disponível.\n",
    "\n",
    "    Returns:\n",
    "        bool: True se o nome for uma doença, False caso contrário.\n",
    "    \"\"\"\n",
    "\n",
    "    try:\n",
    "        prompt = f\"\"\"As an expert medical professional, is \"{disease}\" a recognized disease?\n",
    "        Output only:\n",
    "            1: if the name is identified as a disease.\n",
    "            0: otherwise.\n",
    "\n",
    "        Examples:\n",
    "            Antibiotic Resistance: 0\n",
    "            vaccine: 0\n",
    "            Anaemia: 1\n",
    "\n",
    "        Your turn:\n",
    "            {disease}:\n",
    "        \"\"\"\n",
    "        resposta = model_diseases.generate_content(prompt)\n",
    "        match = re.search(r\"[01]\", resposta.text)  \n",
    "        if match:\n",
    "            return bool(int(match.group(0)))  # Converte '1' para True, '0' para False\n",
    "        else:\n",
    "            print(f\"Formato de resposta inesperado para '{disease}': {resposta.text}\")\n",
    "            return False\n",
    "\n",
    "    except (AttributeError, TypeError, ValueError) as e:\n",
    "        print(f\"Erro ao processar '{disease}': {e}\")\n",
    "        return False"
   ]
  },
  {
   "cell_type": "code",
   "execution_count": 12,
   "metadata": {},
   "outputs": [],
   "source": [
    "def fetch_valid_diseases(diseases_raw):\n",
    "    delay = 10  # Initial delay\n",
    "    max_retries = 3  # Maximum number of retries\n",
    "    retries = 0\n",
    "    diseases = []\n",
    "    for disease in tqdm(diseases_raw, desc=\"Fetching Valid Diseases\", unit=\"disease\"):\n",
    "        while retries < max_retries:\n",
    "            try:\n",
    "                if is_disease(disease):\n",
    "                    diseases.append(disease)\n",
    "                break  \n",
    "            except ResourceExhausted:\n",
    "                retries += 1\n",
    "                delay *= 2  \n",
    "                time.sleep(delay)  \n",
    "        retries = 0  \n",
    "        time.sleep(delay)  \n",
    "    return diseases"
   ]
  },
  {
   "cell_type": "code",
   "execution_count": 13,
   "metadata": {},
   "outputs": [
    {
     "name": "stderr",
     "output_type": "stream",
     "text": [
      "Fetching Valid Diseases: 100%|██████████| 10/10 [01:47<00:00, 10.74s/disease]\n"
     ]
    }
   ],
   "source": [
    "diseases = fetch_valid_diseases(diseases_raw)"
   ]
  },
  {
   "cell_type": "code",
   "execution_count": 24,
   "metadata": {},
   "outputs": [],
   "source": [
    "def save_to_json(data, filename, indent=4):\n",
    "    \"\"\"\n",
    "    Salva um dicionário em um arquivo JSON.\n",
    "\n",
    "    Args:\n",
    "        data: O dicionário a ser salvo.\n",
    "        filename: O nome do arquivo JSON.\n",
    "    \"\"\"\n",
    "    try:\n",
    "        with open(filename, \"w\") as json_file:\n",
    "            json.dump(data, json_file, indent=indent)\n",
    "    except TypeError as e:\n",
    "        raise TypeError(f\"Erro ao serializar dados para JSON: {e}\")\n",
    "    except OSError as e:\n",
    "        raise OSError(f\"Erro ao salvar o arquivo JSON: {e}\")\n",
    "    except JSONDecodeError as e:\n",
    "        raise JSONDecodeError(f\"Erro ao codificar dados em JSON: {e}\")"
   ]
  },
  {
   "cell_type": "code",
   "execution_count": 25,
   "metadata": {},
   "outputs": [],
   "source": [
    "save_to_json(diseases, \"diseases_gemini.json\", indent=4)"
   ]
  },
  {
   "cell_type": "code",
   "execution_count": 26,
   "metadata": {},
   "outputs": [],
   "source": [
    "def create_few_shot_from_json(file_path, limit=10):\n",
    "    \"\"\"\n",
    "    Carrega exemplos few-shot a partir de um arquivo JSON, com limite opcional.\n",
    "\n",
    "    Args:\n",
    "        file_path: O caminho para o arquivo JSON contendo os dados.\n",
    "        limit: O número máximo de exemplos a serem retornados (padrão: 10).\n",
    "\n",
    "    Returns:\n",
    "        Uma lista de strings formatadas para few-shot learning, limitada ao número especificado.\n",
    "    \"\"\"\n",
    "    try:\n",
    "        with open(file_path, 'r') as file:\n",
    "            data_dict = json.load(file)\n",
    "\n",
    "        few_shot_examples = [\n",
    "            f\"{tipo}: {texto}\"\n",
    "            for key, values in data_dict.items()\n",
    "            for tipo, texto in [(\"input\", key), (\"output\", \", \".join(map(str, values)))]\n",
    "        ][:limit]  # Limita a lista aos primeiros 'limit' itens\n",
    "        return few_shot_examples\n",
    "    except FileNotFoundError:\n",
    "        print(f\"Arquivo não encontrado: {file_path}\")\n",
    "        return []\n",
    "    except json.JSONDecodeError:\n",
    "        print(f\"Erro ao decodificar o JSON em: {file_path}\")\n",
    "        return []"
   ]
  },
  {
   "cell_type": "code",
   "execution_count": 27,
   "metadata": {},
   "outputs": [],
   "source": [
    "# Uso da função\n",
    "few_shot = create_few_shot_from_json('diseases_symptoms_medline.json')"
   ]
  },
  {
   "cell_type": "code",
   "execution_count": 29,
   "metadata": {},
   "outputs": [],
   "source": [
    "instruction_symptoms = \"\"\"You are an expert medical professional, equipped with comprehensive knowledge of human diseases and their symptoms\n",
    "You create correct and simple symptoms list that is easy to understand.\n",
    "Without title\n",
    "Without comments\n",
    "\"\"\"\n",
    "\n",
    "model_symptoms = genai.GenerativeModel(model_name=\"gemini-1.5-pro\",\n",
    "                              generation_config=generation_config,\n",
    "                              safety_settings=safety_settings,\n",
    "                              system_instruction=instruction_symptoms)"
   ]
  },
  {
   "cell_type": "code",
   "execution_count": 28,
   "metadata": {},
   "outputs": [],
   "source": [
    "def generate_symptoms_with_ai(few_shot, diseases, model_symptoms=model_symptoms, delay=60):\n",
    "    \"\"\"\n",
    "    Gera sintomas para doenças usando um modelo de IA.\n",
    "\n",
    "    Args:\n",
    "        model: O modelo de IA a ser usado.\n",
    "        few_shot: Exemplos few-shot para o modelo.\n",
    "        diseases: Uma lista de doenças para as quais gerar sintomas.\n",
    "        delay: Tempo de espera entre as chamadas à API (em segundos).\n",
    "\n",
    "    Returns:\n",
    "        dict: Um dicionário onde as chaves são as doenças e os valores são listas de sintomas.\n",
    "    \"\"\"\n",
    "\n",
    "    diseases_symptoms_ai = {}\n",
    "\n",
    "    for disease in tqdm(diseases, desc=\"Generating Symptoms\", unit=\"disease\"):\n",
    "        output_text = few_shot + [f'input: {disease}', 'output:']\n",
    "        \n",
    "        try:\n",
    "            response = model_symptoms.generate_content(output_text)\n",
    "            if not response.parts or len(response.parts) != 1 or \"text\" not in response.parts[0]:\n",
    "                raise ValueError(\"A resposta não contém uma parte de texto válida.\")\n",
    "            \n",
    "            symptoms = re.sub(r\"[^a-zA-Z\\s,]\", \"\", response.text)\n",
    "            symptoms_list = [symptom.strip() for symptom in symptoms.split(', ')]\n",
    "            diseases_symptoms_ai[disease] = symptoms_list\n",
    "        except (AttributeError, TypeError, ValueError) as e:\n",
    "            print(f\"Erro ao gerar sintomas para '{disease}': {e}\")\n",
    "        \n",
    "        time.sleep(delay)\n",
    "\n",
    "    return diseases_symptoms_ai"
   ]
  },
  {
   "cell_type": "code",
   "execution_count": 20,
   "metadata": {},
   "outputs": [
    {
     "name": "stderr",
     "output_type": "stream",
     "text": [
      "Generating Symptoms: 100%|██████████| 7/7 [07:12<00:00, 61.74s/disease]\n"
     ]
    }
   ],
   "source": [
    "# Uso da função (exemplo)\n",
    "diseases_symptoms_ai = generate_symptoms_with_ai(few_shot=few_shot, diseases=diseases)"
   ]
  },
  {
   "cell_type": "code",
   "execution_count": 22,
   "metadata": {},
   "outputs": [],
   "source": [
    "# Salva o dicionário em um arquivo JSON\n",
    "save_to_json(diseases_symptoms_ai, \"diseases_symptoms_gemini.json\")"
   ]
  }
 ],
 "metadata": {
  "kernelspec": {
   "display_name": "Python 3",
   "language": "python",
   "name": "python3"
  },
  "language_info": {
   "codemirror_mode": {
    "name": "ipython",
    "version": 3
   },
   "file_extension": ".py",
   "mimetype": "text/x-python",
   "name": "python",
   "nbconvert_exporter": "python",
   "pygments_lexer": "ipython3",
   "version": "3.11.9"
  }
 },
 "nbformat": 4,
 "nbformat_minor": 2
}
