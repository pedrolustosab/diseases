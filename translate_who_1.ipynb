{
  "cells": [
    {
      "cell_type": "code",
      "execution_count": 1,
      "metadata": {
        "id": "DFy3ADca-Zuv"
      },
      "outputs": [],
      "source": [
        "import json\n",
        "from translate import Translator\n",
        "from json import JSONDecodeError"
      ]
    },
    {
      "cell_type": "code",
      "execution_count": 2,
      "metadata": {
        "id": "ZrITKSII-dLc"
      },
      "outputs": [],
      "source": [
        "def readJson(nome_arquivo):\n",
        "    \"\"\"Lê um arquivo JSON e retorna um DataFrame com colunas 'Disease' e 'Symptom'.\"\"\"\n",
        "    try:\n",
        "        with open(nome_arquivo, 'r', encoding='utf-8') as arquivo:\n",
        "            dados = json.load(arquivo)\n",
        "        return dados\n",
        "\n",
        "    except FileNotFoundError:\n",
        "        print(f\"Erro: Arquivo '{nome_arquivo}' não encontrado.\")\n",
        "        return None\n",
        "    except json.JSONDecodeError:\n",
        "        print(f\"Erro: Arquivo '{nome_arquivo}' não é um JSON válido.\")\n",
        "        return None"
      ]
    },
    {
      "cell_type": "code",
      "execution_count": 3,
      "metadata": {
        "id": "eKMAb85g-ihs"
      },
      "outputs": [],
      "source": [
        "who = readJson('symptoms_who_1.json')"
      ]
    },
    {
      "cell_type": "code",
      "execution_count": 4,
      "metadata": {
        "id": "0JwYyW7Y-kaS"
      },
      "outputs": [],
      "source": [
        "# Função para traduzir o texto\n",
        "def translate_text(text, src_lang='en', dest_lang='pt'):\n",
        "    translator = Translator(from_lang=src_lang, to_lang=dest_lang)\n",
        "    return translator.translate(text)"
      ]
    },
    {
      "cell_type": "code",
      "execution_count": 5,
      "metadata": {
        "id": "sqTPHFM7-pvJ"
      },
      "outputs": [],
      "source": [
        "# Função para traduzir o Json\n",
        "def translate_json(nameJson):\n",
        "    translated_json = {}\n",
        "    for disease, symptoms in nameJson.items():\n",
        "        translated_disease = translate_text(disease)\n",
        "        translated_symptoms = [translate_text(symptom) for symptom in symptoms]\n",
        "        translated_json[translated_disease] = translated_symptoms\n",
        "    return translated_json"
      ]
    },
    {
      "cell_type": "code",
      "execution_count": 6,
      "metadata": {
        "id": "RJayxtDO-q2b"
      },
      "outputs": [],
      "source": [
        "translated_who = translate_json(who)"
      ]
    },
    {
      "cell_type": "code",
      "execution_count": 8,
      "metadata": {
        "id": "UlpbjAxl-tzK"
      },
      "outputs": [],
      "source": [
        "# Salvar o dicionário filtrado em um arquivo JSON\n",
        "with open(\"translated_who_1.json\", \"w\") as json_file:\n",
        "    json.dump(translated_who, json_file, indent=4)"
      ]
    }
  ],
  "metadata": {
    "colab": {
      "provenance": []
    },
    "kernelspec": {
      "display_name": "Python 3",
      "name": "python3"
    },
    "language_info": {
      "codemirror_mode": {
        "name": "ipython",
        "version": 3
      },
      "file_extension": ".py",
      "mimetype": "text/x-python",
      "name": "python",
      "nbconvert_exporter": "python",
      "pygments_lexer": "ipython3",
      "version": "3.11.9"
    }
  },
  "nbformat": 4,
  "nbformat_minor": 0
}
