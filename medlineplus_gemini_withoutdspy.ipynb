{
 "cells": [
  {
   "cell_type": "code",
   "execution_count": 1,
   "metadata": {},
   "outputs": [
    {
     "name": "stderr",
     "output_type": "stream",
     "text": [
      "c:\\Users\\PedroLustosa\\AppData\\Local\\Programs\\Python\\Python311\\Lib\\site-packages\\tqdm\\auto.py:21: TqdmWarning: IProgress not found. Please update jupyter and ipywidgets. See https://ipywidgets.readthedocs.io/en/stable/user_install.html\n",
      "  from .autonotebook import tqdm as notebook_tqdm\n"
     ]
    }
   ],
   "source": [
    "import os\n",
    "from dotenv import load_dotenv\n",
    "import google.generativeai as genai"
   ]
  },
  {
   "cell_type": "code",
   "execution_count": 2,
   "metadata": {},
   "outputs": [],
   "source": [
    "import time\n",
    "import json\n",
    "import csv\n",
    "import re"
   ]
  },
  {
   "cell_type": "code",
   "execution_count": 3,
   "metadata": {},
   "outputs": [],
   "source": [
    "# Carrega as variáveis de ambiente do arquivo .env\n",
    "load_dotenv()\n",
    "# Acessa a chave de API do Gemini\n",
    "GEMINI_API_KEY  = os.getenv(\"GEMINI_API_KEY\")\n",
    "genai.configure(api_key=GEMINI_API_KEY)"
   ]
  },
  {
   "cell_type": "code",
   "execution_count": 4,
   "metadata": {},
   "outputs": [],
   "source": [
    "generation_config = {\n",
    "  \"temperature\": 0.4,\n",
    "}\n",
    "safety_settings={\n",
    "    'HATE': 'BLOCK_NONE',\n",
    "    'HARASSMENT': 'BLOCK_NONE',\n",
    "    'SEXUAL' : 'BLOCK_NONE',\n",
    "    'DANGEROUS' : 'BLOCK_NONE'\n",
    "    }\n",
    "model = genai.GenerativeModel(model_name='gemini-1.5-flash',\n",
    "                                  generation_config=generation_config,\n",
    "                                  safety_settings=safety_settings,)\n"
   ]
  },
  {
   "cell_type": "code",
   "execution_count": 5,
   "metadata": {},
   "outputs": [
    {
     "data": {
      "text/plain": [
       "('HIV',\n",
       " ['Fever',\n",
       "  'Chills',\n",
       "  'Rash',\n",
       "  'Night sweats (heavy sweating during sleep)',\n",
       "  'Muscle aches',\n",
       "  'Sore throat',\n",
       "  'Fatigue',\n",
       "  'Swollen lymph nodes',\n",
       "  'Mouth ulcers'])"
      ]
     },
     "execution_count": 5,
     "metadata": {},
     "output_type": "execute_result"
    }
   ],
   "source": [
    "with open('filtered_diseases_symptoms_Medlineplus.json', 'r') as arquivo:\n",
    "    diseases_symptoms = json.load(arquivo)\n",
    "    \n",
    "next(iter(diseases_symptoms.items()))"
   ]
  },
  {
   "cell_type": "code",
   "execution_count": 6,
   "metadata": {},
   "outputs": [
    {
     "data": {
      "text/plain": [
       "['Aspergillosis',\n",
       " 'Abscess',\n",
       " 'Acute Bronchitis',\n",
       " 'Viral Infections',\n",
       " 'Vaccines']"
      ]
     },
     "execution_count": 6,
     "metadata": {},
     "output_type": "execute_result"
    }
   ],
   "source": [
    "# Abrir e ler o arquivo JSON\n",
    "with open('empty_symptoms_keys_Medlineplus.json', mode='r', encoding='utf-8') as file:\n",
    "    diseases = json.load(file)\n",
    "diseases[:5]"
   ]
  },
  {
   "cell_type": "code",
   "execution_count": 7,
   "metadata": {},
   "outputs": [
    {
     "data": {
      "text/plain": [
       "{'input': 'What are the symptoms of HIV?',\n",
       " 'output': ['Fever',\n",
       "  'Chills',\n",
       "  'Rash',\n",
       "  'Night sweats (heavy sweating during sleep)',\n",
       "  'Muscle aches',\n",
       "  'Sore throat',\n",
       "  'Fatigue',\n",
       "  'Swollen lymph nodes',\n",
       "  'Mouth ulcers']}"
      ]
     },
     "execution_count": 7,
     "metadata": {},
     "output_type": "execute_result"
    }
   ],
   "source": [
    "examples = []\n",
    "\n",
    "for key, values in diseases_symptoms.items():\n",
    "    for value in values:\n",
    "        input_text = f'What are the symptoms of {key}?'\n",
    "        output_text = values \n",
    "        examples.append({\"input\": input_text, \"output\": output_text})\n",
    "\n",
    "examples[0]"
   ]
  },
  {
   "cell_type": "code",
   "execution_count": 8,
   "metadata": {},
   "outputs": [],
   "source": [
    "diseases_symptoms_new = {}\n",
    "for disease in diseases[:2]:  # Check if the disease exists\n",
    "    # Cria um prompt para o modelo generativo\n",
    "    prompt = f'What are the symptoms of {disease}? Summarize the symptoms in just bulletpoints, without titles, about health symptoms with few words.'\n",
    "    # Chama o modelo generativo para gerar um resumo\n",
    "    response = model.generate_content(prompt)\n",
    "    symptoms_final = re.sub(r\"[^a-zA-Z\\s]\", \"\", response.text)\n",
    "    diseases_symptoms_new[disease] = [item.strip() for item in symptoms_final.split('\\n') if item.strip()]\n",
    "    time.sleep(2)"
   ]
  },
  {
   "cell_type": "code",
   "execution_count": 9,
   "metadata": {},
   "outputs": [],
   "source": [
    "# Salvar o dicionário filtrado em um arquivo JSON\n",
    "with open(\"diseases_symptoms_medline_gemini.json\", \"w\") as json_file:\n",
    "    json.dump(diseases_symptoms_new, json_file, indent=4)"
   ]
  }
 ],
 "metadata": {
  "kernelspec": {
   "display_name": "Python 3",
   "language": "python",
   "name": "python3"
  },
  "language_info": {
   "codemirror_mode": {
    "name": "ipython",
    "version": 3
   },
   "file_extension": ".py",
   "mimetype": "text/x-python",
   "name": "python",
   "nbconvert_exporter": "python",
   "pygments_lexer": "ipython3",
   "version": "3.11.9"
  }
 },
 "nbformat": 4,
 "nbformat_minor": 2
}
