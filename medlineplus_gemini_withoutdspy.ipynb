{
 "cells": [
  {
   "cell_type": "code",
   "execution_count": 19,
   "metadata": {},
   "outputs": [],
   "source": [
    "import os\n",
    "from dotenv import load_dotenv\n",
    "import google.generativeai as genai\n",
    "import time\n",
    "import json\n",
    "import re"
   ]
  },
  {
   "cell_type": "code",
   "execution_count": 12,
   "metadata": {},
   "outputs": [],
   "source": [
    "# Carrega as variáveis de ambiente do arquivo .env\n",
    "load_dotenv()\n",
    "\n",
    "# Acessa a chave de API do Gemini\n",
    "GEMINI_API_KEY  = os.getenv(\"GEMINI_API_KEY\")\n",
    "genai.configure(api_key=GEMINI_API_KEY)\n",
    "\n",
    "# Define o modelo\n",
    "generation_config = {\n",
    "  \"temperature\": 0.3,\n",
    "}\n",
    "\n",
    "safety_settings={\n",
    "    'HATE': 'BLOCK_NONE',\n",
    "    'HARASSMENT': 'BLOCK_NONE',\n",
    "    'SEXUAL' : 'BLOCK_NONE',\n",
    "    'DANGEROUS' : 'BLOCK_NONE'\n",
    "    }\n",
    "\n",
    "instruction = \"\"\"You are an expert medical professional, equipped with comprehensive knowledge of human diseases and their symptoms\n",
    "You create correct and simple symptoms list that is easy to understand.\n",
    "Without title\n",
    "Without comments\n",
    "\"\"\"\n",
    "\n",
    "model = genai.GenerativeModel(model_name=\"gemini-1.5-pro\",\n",
    "                              generation_config=generation_config,\n",
    "                              safety_settings=safety_settings,\n",
    "                              system_instruction=instruction)"
   ]
  },
  {
   "cell_type": "code",
   "execution_count": 5,
   "metadata": {},
   "outputs": [],
   "source": [
    "def create_few_shot_from_json(file_path, limit=10):\n",
    "    \"\"\"\n",
    "    Carrega exemplos few-shot a partir de um arquivo JSON, com limite opcional.\n",
    "\n",
    "    Args:\n",
    "        file_path: O caminho para o arquivo JSON contendo os dados.\n",
    "        limit: O número máximo de exemplos a serem retornados (padrão: 10).\n",
    "\n",
    "    Returns:\n",
    "        Uma lista de strings formatadas para few-shot learning, limitada ao número especificado.\n",
    "    \"\"\"\n",
    "    try:\n",
    "        with open(file_path, 'r') as file:\n",
    "            data_dict = json.load(file)\n",
    "\n",
    "        few_shot_examples = [\n",
    "            f\"{tipo}: {texto}\"\n",
    "            for key, values in data_dict.items()\n",
    "            for tipo, texto in [(\"input\", key), (\"output\", \", \".join(map(str, values)))]\n",
    "        ][:limit]  # Limita a lista aos primeiros 'limit' itens\n",
    "        return few_shot_examples\n",
    "    except FileNotFoundError:\n",
    "        print(f\"Arquivo não encontrado: {file_path}\")\n",
    "        return []\n",
    "    except json.JSONDecodeError:\n",
    "        print(f\"Erro ao decodificar o JSON em: {file_path}\")\n",
    "        return []"
   ]
  },
  {
   "cell_type": "code",
   "execution_count": 6,
   "metadata": {},
   "outputs": [
    {
     "data": {
      "text/plain": [
       "['input: HIV',\n",
       " 'output: Fever, Chills, Rash, Night sweats (heavy sweating during sleep), Muscle aches, Sore throat, Fatigue, Swollen lymph nodes, Mouth ulcers']"
      ]
     },
     "execution_count": 6,
     "metadata": {},
     "output_type": "execute_result"
    }
   ],
   "source": [
    "# Uso da função\n",
    "few_shot = create_few_shot_from_json('filtered_diseases_symptoms_Medlineplus.json')\n",
    "few_shot[:2]\n"
   ]
  },
  {
   "cell_type": "code",
   "execution_count": 7,
   "metadata": {},
   "outputs": [],
   "source": [
    "def load_diseases_from_json(file_path):\n",
    "    \"\"\"\n",
    "    Carrega as doenças de um arquivo JSON, que pode ser uma lista ou um dicionário.\n",
    "\n",
    "    Args:\n",
    "        file_path (str): O caminho para o arquivo JSON.\n",
    "\n",
    "    Returns:\n",
    "        list: Uma lista contendo as doenças.\n",
    "    \"\"\"\n",
    "    try:\n",
    "        with open(file_path, 'r', encoding='utf-8') as file:\n",
    "            data = json.load(file)\n",
    "\n",
    "        if isinstance(data, list):  # Verifica se é uma lista\n",
    "            return data  # Se for lista, retorna diretamente\n",
    "        elif isinstance(data, dict):  # Verifica se é um dicionário\n",
    "            return list(data.keys())  # Se for dicionário, retorna as chaves\n",
    "\n",
    "    except FileNotFoundError:\n",
    "        print(f\"Erro: Arquivo '{file_path}' não encontrado.\")\n",
    "        return []\n",
    "    except json.JSONDecodeError:\n",
    "        print(f\"Erro: Falha ao decodificar o JSON em '{file_path}'.\")\n",
    "        return []\n"
   ]
  },
  {
   "cell_type": "code",
   "execution_count": 8,
   "metadata": {},
   "outputs": [
    {
     "name": "stdout",
     "output_type": "stream",
     "text": [
      "['Aspergillosis', 'Abscess', 'Acute Bronchitis', 'Viral Infections', 'Vaccines']\n"
     ]
    }
   ],
   "source": [
    "# Uso da função\n",
    "diseases = load_diseases_from_json('empty_symptoms_keys_Medlineplus.json')\n",
    "print(diseases[:5])  # Exibe as primeiras 10 doenças"
   ]
  },
  {
   "cell_type": "code",
   "execution_count": 36,
   "metadata": {},
   "outputs": [],
   "source": [
    "def generate_symptoms_with_ai(model, few_shot, diseases, max_diseases=None, delay=20):\n",
    "    \"\"\"\n",
    "    Gera sintomas para doenças usando um modelo de IA.\n",
    "\n",
    "    Args:\n",
    "        model: O modelo de IA a ser usado.\n",
    "        few_shot: Exemplos few-shot para o modelo.\n",
    "        diseases: Uma lista de doenças para as quais gerar sintomas.\n",
    "        max_diseases: Número máximo de doenças a processar (opcional).\n",
    "        delay: Tempo de espera entre as chamadas à API (em segundos).\n",
    "\n",
    "    Returns:\n",
    "        dict: Um dicionário onde as chaves são as doenças e os valores são listas de sintomas.\n",
    "    \"\"\"\n",
    "\n",
    "    diseases_symptoms_ai = {}\n",
    "    diseases_to_process = diseases if max_diseases is None else diseases[:max_diseases]\n",
    "\n",
    "    for disease in diseases_to_process:\n",
    "        output_text = few_shot + [f'input: {disease}', 'output:']\n",
    "        \n",
    "        try:\n",
    "            response = model.generate_content(output_text)\n",
    "            if not response.parts or len(response.parts) != 1 or \"text\" not in response.parts[0]:\n",
    "                raise ValueError(\"A resposta não contém uma parte de texto válida.\")\n",
    "            \n",
    "            symptoms = re.sub(r\"[^a-zA-Z\\s,]\", \"\", response.text)\n",
    "            symptoms_list = [symptom.strip() for symptom in symptoms.split(', ')]\n",
    "            diseases_symptoms_ai[disease] = symptoms_list\n",
    "        except (AttributeError, TypeError, ValueError) as e:\n",
    "            print(f\"Erro ao gerar sintomas para '{disease}': {e}\")\n",
    "        \n",
    "        time.sleep(delay)\n",
    "\n",
    "    return diseases_symptoms_ai"
   ]
  },
  {
   "cell_type": "code",
   "execution_count": 37,
   "metadata": {},
   "outputs": [],
   "source": [
    "# Uso da função (exemplo)\n",
    "diseases_symptoms_ai = generate_symptoms_with_ai(model, few_shot, diseases)"
   ]
  },
  {
   "cell_type": "code",
   "execution_count": 38,
   "metadata": {},
   "outputs": [],
   "source": [
    "def save_to_json(data, filename):\n",
    "    \"\"\"\n",
    "    Salva um dicionário em um arquivo JSON.\n",
    "\n",
    "    Args:\n",
    "        data: O dicionário a ser salvo.\n",
    "        filename: O nome do arquivo JSON.\n",
    "    \"\"\"\n",
    "    try:\n",
    "        with open(filename, \"w\") as json_file:\n",
    "            json.dump(data, json_file, indent=4)\n",
    "    except IOError as e:\n",
    "        print(f\"Erro ao salvar o arquivo '{filename}': {e}\")"
   ]
  },
  {
   "cell_type": "code",
   "execution_count": 39,
   "metadata": {},
   "outputs": [],
   "source": [
    "# Salva o dicionário em um arquivo JSON\n",
    "save_to_json(diseases_symptoms_ai, \"diseases_symptoms_medline_gemini.json\")"
   ]
  }
 ],
 "metadata": {
  "kernelspec": {
   "display_name": "Python 3",
   "language": "python",
   "name": "python3"
  },
  "language_info": {
   "codemirror_mode": {
    "name": "ipython",
    "version": 3
   },
   "file_extension": ".py",
   "mimetype": "text/x-python",
   "name": "python",
   "nbconvert_exporter": "python",
   "pygments_lexer": "ipython3",
   "version": "3.11.9"
  }
 },
 "nbformat": 4,
 "nbformat_minor": 2
}
