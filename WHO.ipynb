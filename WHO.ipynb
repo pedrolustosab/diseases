{
  "cells": [
    {
      "cell_type": "code",
      "execution_count": 1,
      "metadata": {
        "id": "QrJBqKBvmgf1"
      },
      "outputs": [
        {
          "name": "stderr",
          "output_type": "stream",
          "text": [
            "c:\\Users\\PedroLustosa\\AppData\\Local\\Programs\\Python\\Python311\\Lib\\site-packages\\tqdm\\auto.py:21: TqdmWarning: IProgress not found. Please update jupyter and ipywidgets. See https://ipywidgets.readthedocs.io/en/stable/user_install.html\n",
            "  from .autonotebook import tqdm as notebook_tqdm\n"
          ]
        }
      ],
      "source": [
        "# Importando Bibliotecas\n",
        "import requests\n",
        "import re\n",
        "import time\n",
        "import json\n",
        "from bs4 import BeautifulSoup\n",
        "import google.generativeai as genai"
      ]
    },
    {
      "cell_type": "code",
      "execution_count": 2,
      "metadata": {
        "id": "GcW-5w3KnFdi"
      },
      "outputs": [],
      "source": [
        "# URL\n",
        "diseases_url = \"https://www.who.int/news-room/fact-sheets\"\n",
        "\n",
        "# Requisição\n",
        "try:\n",
        "    response = requests.get(diseases_url)\n",
        "    response.raise_for_status()  # Lança uma exceção se ocorrer um erro HTTP\n",
        "except requests.exceptions.RequestException as e:\n",
        "    print('Erro ao fazer a requisição:', e)\n",
        "    exit()\n",
        "\n",
        "diseases_html = BeautifulSoup(response.content, 'html.parser')"
      ]
    },
    {
      "cell_type": "code",
      "execution_count": 3,
      "metadata": {},
      "outputs": [],
      "source": [
        "# Encontrar todos os elementos com a classe \"item\"\n",
        "items = diseases_html.find_all('p')\n",
        "\n",
        "# Inicializar uma lista para armazenar as doenças\n",
        "diseases = []\n",
        "\n",
        "# Exibir os textos dos elementos <a> dentro dos elementos com a classe \"item\"\n",
        "for item in items:\n",
        "        disease = item.text\n",
        "        diseases.append(disease)\n",
        "\n"
      ]
    },
    {
      "cell_type": "code",
      "execution_count": 4,
      "metadata": {},
      "outputs": [],
      "source": [
        "# Acessando a API KEY\n",
        "with open('dados.json', \"r\") as arquivo:  # Abre o arquivo 'dados.json' em modo de leitura\n",
        "    key = json.load(arquivo)  # Carrega o conteúdo do arquivo JSON e o armazena na variável 'key'\n",
        "\n",
        "# Configurando a chave da API para uso no módulo 'genai'\n",
        "genai.configure(api_key=key['Gemini'])  # Acessa o valor associado à chave 'Gemini' no dicionário 'key' e configura a API com esta chave\n"
      ]
    },
    {
      "cell_type": "code",
      "execution_count": 5,
      "metadata": {},
      "outputs": [],
      "source": [
        "# Configuração de geração de texto\n",
        "generation_config = {\n",
        "  \"temperature\": 1,  # Define a aleatoriedade na geração de texto (1 é um valor padrão para maior variabilidade)\n",
        "  \"response_mime_type\": \"text/plain\",  # Define o tipo MIME da resposta como texto simples\n",
        "}\n",
        "\n",
        "# Configurações de segurança para filtrar conteúdo inadequado\n",
        "safety_settings = [\n",
        "  {\n",
        "    \"category\": \"HARM_CATEGORY_HARASSMENT\",  # Categoria para assédio\n",
        "    \"threshold\": \"BLOCK_NONE\",  # Não bloquear nenhum conteúdo desta categoria\n",
        "  },\n",
        "  {\n",
        "    \"category\": \"HARM_CATEGORY_HATE_SPEECH\",  # Categoria para discurso de ódio\n",
        "    \"threshold\": \"BLOCK_NONE\",  # Não bloquear nenhum conteúdo desta categoria\n",
        "  },\n",
        "  {\n",
        "    \"category\": \"HARM_CATEGORY_SEXUALLY_EXPLICIT\",  # Categoria para conteúdo sexual explícito\n",
        "    \"threshold\": \"BLOCK_NONE\",  # Não bloquear nenhum conteúdo desta categoria\n",
        "  },\n",
        "  {\n",
        "    \"category\": \"HARM_CATEGORY_DANGEROUS_CONTENT\",  # Categoria para conteúdo perigoso\n",
        "    \"threshold\": \"BLOCK_NONE\",  # Não bloquear nenhum conteúdo desta categoria\n",
        "  },\n",
        "]\n",
        "\n",
        "# Inicialização do modelo generativo com as configurações definidas\n",
        "model = genai.GenerativeModel(\n",
        "  model_name=\"gemini-1.5-flash-latest\",  # Nome do modelo generativo a ser utilizado\n",
        "  safety_settings=safety_settings,  # Aplica as configurações de segurança definidas\n",
        "  generation_config=generation_config,  # Aplica a configuração de geração de texto definida\n",
        ")\n",
        "\n",
        "# Início de uma sessão de chat com o modelo\n",
        "chat_session = model.start_chat(\n",
        "  history=[\n",
        "    # História de chat pode ser preenchida aqui, mas atualmente está vazia\n",
        "  ]\n",
        ")\n"
      ]
    },
    {
      "cell_type": "code",
      "execution_count": 6,
      "metadata": {},
      "outputs": [],
      "source": [
        "# Inicialização de dicionário para armazenar sintomas das doenças e lista para erros\n",
        "disease_symptoms = {}  # Dicionário para armazenar os sintomas associados a cada doença\n",
        "disease_error = []  # Lista para armazenar erros ocorridos durante o processamento das doenças\n"
      ]
    },
    {
      "cell_type": "code",
      "execution_count": 7,
      "metadata": {},
      "outputs": [],
      "source": [
        "def fetch_disease_info(disease):\n",
        "    \"\"\"\n",
        "    Função para obter informações de uma doença a partir da URL da WHO.\n",
        "    \n",
        "    Parâmetros:\n",
        "    disease (str): Nome da doença\n",
        "    \n",
        "    Retorna:\n",
        "    response (requests.Response): Resposta da requisição HTTP\n",
        "    ou\n",
        "    None: Se ocorrer um erro na requisição\n",
        "    \"\"\"\n",
        "    # Limpa e formata o nome da doença para criar a URL\n",
        "    # Substitui espaços por hífens e remove caracteres não alfanuméricos e hífens\n",
        "    disease_clear = re.sub(r\"[^a-z0-9-]\", \"\", disease.lower().replace(\" \", \"-\"))\n",
        "    disease_html = f'https://www.who.int/news-room/fact-sheets/detail/{disease_clear}'\n",
        "\n",
        "    try:\n",
        "        # Faz uma requisição HTTP para obter o conteúdo da página da doença\n",
        "        response = requests.get(disease_html)\n",
        "        # Verifica se a requisição foi bem-sucedida\n",
        "        response.raise_for_status()  # Lança uma exceção se ocorrer um erro HTTP\n",
        "    except requests.exceptions.RequestException as e:\n",
        "        # Em caso de erro na requisição, adiciona o erro à lista e retorna None\n",
        "        disease_error.append(e)\n",
        "        return None\n",
        "    \n",
        "    # Aguarda 1 segundo para evitar sobrecarga no servidor\n",
        "    time.sleep(1)\n",
        "    return response\n"
      ]
    },
    {
      "cell_type": "code",
      "execution_count": 8,
      "metadata": {},
      "outputs": [],
      "source": [
        "def parse_symptoms(response_content):\n",
        "    \"\"\"\n",
        "    Função para analisar o conteúdo HTML e extrair os sintomas.\n",
        "\n",
        "    Parâmetros:\n",
        "    response_content (str): Conteúdo HTML da página da doença\n",
        "\n",
        "    Retorna:\n",
        "    symptoms (str): String contendo os sintomas extraídos\n",
        "    \"\"\"\n",
        "    # Cria um objeto BeautifulSoup para analisar o conteúdo HTML\n",
        "    soup = BeautifulSoup(response_content, 'html.parser')\n",
        "\n",
        "    # Procura um cabeçalho <h2> que contenha as palavras 'consequences' ou 'symptoms'\n",
        "    symptoms_header = soup.find('h2', string=re.compile(r'consequences|symptoms', re.IGNORECASE))\n",
        "    \n",
        "    # Se não encontrar um cabeçalho de sintomas, retorna uma string vazia\n",
        "    if not symptoms_header:\n",
        "        return ''\n",
        "\n",
        "    # Inicializa uma string vazia para armazenar os sintomas\n",
        "    symptoms = ''\n",
        "    \n",
        "    # Encontra o próximo elemento após o cabeçalho de sintomas\n",
        "    current_element = symptoms_header.find_next_sibling()\n",
        "    \n",
        "    # Itera sobre os elementos subsequentes até encontrar outro cabeçalho <h2> ou o fim do documento\n",
        "    while current_element and current_element.name != 'h2':\n",
        "        # Adiciona o texto do elemento atual à string de sintomas\n",
        "        symptoms += current_element.text\n",
        "        # Passa para o próximo elemento\n",
        "        current_element = current_element.find_next_sibling()\n",
        "    \n",
        "    # Retorna a string contendo os sintomas extraídos\n",
        "    return symptoms\n"
      ]
    },
    {
      "cell_type": "code",
      "execution_count": 9,
      "metadata": {},
      "outputs": [],
      "source": [
        "def generate_summary(symptoms):\n",
        "    \"\"\"\n",
        "    Função para gerar um resumo dos sintomas usando um modelo generativo.\n",
        "\n",
        "    Parâmetros:\n",
        "    symptoms (str): String contendo os sintomas\n",
        "\n",
        "    Retorna:\n",
        "    symptoms_final (str): Resumo dos sintomas gerado pelo modelo\n",
        "    \"\"\"\n",
        "    # Cria um prompt para o modelo generativo\n",
        "    prompt = f'Summarize {symptoms} in just bulletpoints, without titles, about health symptoms with few words.'\n",
        "    \n",
        "    # Chama o modelo generativo para gerar um resumo\n",
        "    response = model.generate_content(prompt)\n",
        "    \n",
        "    # Remove caracteres que não sejam letras ou espaços do resumo gerado\n",
        "    symptoms_final = re.sub(r\"[^a-zA-Z\\s]\", \"\", response.text)\n",
        "    \n",
        "    # Retorna o resumo dos sintomas final\n",
        "    return symptoms_final\n",
        "\n"
      ]
    },
    {
      "cell_type": "code",
      "execution_count": 10,
      "metadata": {},
      "outputs": [],
      "source": [
        "for disease in diseases:\n",
        "    response = fetch_disease_info(disease)\n",
        "\n",
        "    # Verifica se a resposta é válida (diferente de None ou False)\n",
        "    if response and response.content:  # Verifica se há conteúdo na resposta\n",
        "        symptoms = parse_symptoms(response.content)\n",
        "\n",
        "        # Processa os sintomas apenas se não for uma string vazia\n",
        "        if symptoms:  \n",
        "            summary = generate_summary(symptoms)\n",
        "            # Divide o resumo em uma lista de sintomas, removendo espaços em branco\n",
        "            disease_symptoms[disease] = [item.strip() for item in summary.split('\\n') if item.strip()]\n",
        "        else:\n",
        "            # Se não houver sintomas, armazena uma lista vazia\n",
        "            disease_symptoms[disease] = []  \n",
        "    else:\n",
        "        # Se a resposta não for válida, armazena uma lista vazia\n",
        "        disease_symptoms[disease] = []\n",
        "\n",
        "    time.sleep(5)  # Aguarda 5 segundos para evitar sobrecarga no servidor\n"
      ]
    },
    {
      "cell_type": "code",
      "execution_count": 22,
      "metadata": {},
      "outputs": [
        {
          "data": {
            "text/plain": [
              "('Diabetes',\n",
              " ['Excessive thirst',\n",
              "  'Frequent urination',\n",
              "  'Blurred vision',\n",
              "  'Fatigue',\n",
              "  'Unexplained weight loss',\n",
              "  'Heart attack',\n",
              "  'Stroke',\n",
              "  'Kidney failure',\n",
              "  'Vision loss',\n",
              "  'Foot problems'])"
            ]
          },
          "execution_count": 22,
          "metadata": {},
          "output_type": "execute_result"
        }
      ],
      "source": [
        "list(disease_symptoms.items())[55]"
      ]
    },
    {
      "cell_type": "code",
      "execution_count": 20,
      "metadata": {},
      "outputs": [
        {
          "name": "stdout",
          "output_type": "stream",
          "text": [
            "151\n"
          ]
        },
        {
          "data": {
            "text/plain": [
              "['Adolescent and young adult health',\n",
              " 'Adolescent pregnancy',\n",
              " 'Ageing and health',\n",
              " 'Alcohol',\n",
              " 'Ambient (outdoor) air pollution',\n",
              " 'Animal bites',\n",
              " 'Antimicrobial resistance',\n",
              " 'Arsenic',\n",
              " 'Asbestos: elimination of asbestos-related diseases',\n",
              " 'Assistive technology',\n",
              " 'Autism',\n",
              " 'Biodiversity and Health',\n",
              " 'Blindness and vision impairment',\n",
              " 'Blood safety and availability',\n",
              " 'Brucellosis',\n",
              " 'Burns',\n",
              " 'Buruli ulcer (Mycobacterium ulcerans infection)',\n",
              " 'Campylobacter',\n",
              " 'Cancer',\n",
              " 'Cardiovascular diseases (CVDs)',\n",
              " 'Cervical cancer',\n",
              " 'Chagas disease (also known as American trypanosomiasis)',\n",
              " 'Child mortality (under 5 years)',\n",
              " 'Childhood cancer',\n",
              " 'Children: improving survival and well-being',\n",
              " 'Children: new threats to health',\n",
              " 'Chronic obstructive pulmonary disease (COPD)',\n",
              " 'Civil registration and vital statistics',\n",
              " 'Climate change',\n",
              " 'Colorectal cancer',\n",
              " 'Commercial determinants of health',\n",
              " 'Community-based health insurance',\n",
              " 'Condoms',\n",
              " 'Congenital disorders',\n",
              " 'Coronavirus disease (COVID-19)',\n",
              " 'Deafness and hearing loss',\n",
              " 'Deliberate events',\n",
              " 'Depressive disorder (depression)',\n",
              " 'Diarrhoeal disease',\n",
              " 'Dioxins',\n",
              " 'Disability',\n",
              " 'Dracunculiasis (guinea-worm disease)',\n",
              " 'Drinking-water',\n",
              " 'Drowning',\n",
              " 'El Niño Southern Oscillation (ENSO)',\n",
              " 'Electricity in health-care facilities',\n",
              " 'Electromagnetic fields and public health: mobile phones',\n",
              " 'Electronic waste (e-waste)',\n",
              " 'Emergency contraception',\n",
              " 'Endometriosis',\n",
              " 'Falls',\n",
              " 'Family planning/contraception methods',\n",
              " 'Female genital mutilation',\n",
              " 'Food additives',\n",
              " 'Food safety',\n",
              " 'Free health care policies',\n",
              " 'Gonorrhoea (Neisseria gonorrhoeae infection)',\n",
              " 'Guillain–Barré syndrome',\n",
              " 'Health-care waste',\n",
              " 'Healthy diet',\n",
              " 'Heat and Health',\n",
              " 'HIV and AIDS',\n",
              " 'HIV drug resistance',\n",
              " 'Household air pollution',\n",
              " 'Human papillomavirus and cancer',\n",
              " 'Human rights',\n",
              " 'Immunization coverage',\n",
              " 'Infant and young child feeding',\n",
              " 'Infertility',\n",
              " 'Influenza (Avian and other zoonotic)',\n",
              " 'Influenza (Seasonal)',\n",
              " 'Injuries and violence',\n",
              " 'Ionizing radiation and health effects',\n",
              " 'Lead poisoning',\n",
              " 'Legionellosis',\n",
              " 'Leishmaniasis',\n",
              " 'Leprosy',\n",
              " 'Listeriosis',\n",
              " 'Low back pain',\n",
              " 'Malnutrition',\n",
              " 'Maternal mortality',\n",
              " 'Menopause',\n",
              " 'Mental disorders',\n",
              " 'Mental health',\n",
              " 'Mental health and forced displacement',\n",
              " 'Mental health at work',\n",
              " 'Mental health in emergencies',\n",
              " 'Mental health of adolescents',\n",
              " 'Mental health of older adults',\n",
              " 'Mercury and health',\n",
              " 'Middle East respiratory syndrome coronavirus (MERS-CoV)',\n",
              " 'Migraine and other headache disorders',\n",
              " 'Millennium Development Goals (MDGs)',\n",
              " 'Mortality among children aged 5-14 years',\n",
              " 'Mpox (monkeypox)',\n",
              " 'Multi-drug resistant gonorrhoea',\n",
              " 'Musculoskeletal health',\n",
              " 'Mycetoma',\n",
              " 'Mycotoxins',\n",
              " 'Natural toxins in food',\n",
              " 'Newborn mortality',\n",
              " 'Newborns: improving survival and well-being',\n",
              " 'Noma',\n",
              " 'Noncommunicable diseases',\n",
              " 'Nursing and midwifery',\n",
              " 'Occupational health: health workers',\n",
              " 'Older adolescent (15 to 19 years) and young adult (20 to 24 years) mortality',\n",
              " 'Older children and young adolescent mortality (5 to 14 years)',\n",
              " 'One Health',\n",
              " 'Opioid overdose',\n",
              " 'Oral health',\n",
              " 'Palliative care',\n",
              " 'Patient safety',\n",
              " 'Pesticide residues in food',\n",
              " 'Physical activity',\n",
              " 'Pneumonia in children',\n",
              " 'Podoconiosis (non-filarial lymphoedema)',\n",
              " 'Prequalification of medicines by WHO',\n",
              " 'Preterm birth',\n",
              " 'Primary health care',\n",
              " \"Protecting workers' health\",\n",
              " 'Quality health services',\n",
              " 'Radon',\n",
              " 'Refugee and migrant health',\n",
              " 'Rehabilitation',\n",
              " 'Rheumatic heart disease',\n",
              " 'Rift Valley fever',\n",
              " 'Road traffic injuries',\n",
              " 'Salmonella (non-typhoidal)',\n",
              " 'Sanitation',\n",
              " 'Self-care for health and well-being',\n",
              " 'Sexually transmitted infections (STIs)',\n",
              " 'Snakebite envenoming',\n",
              " 'Sodium reduction',\n",
              " 'Substandard and falsified medical products',\n",
              " 'Sugars and dental caries',\n",
              " 'Suicide',\n",
              " 'Taeniasis/cysticercosis',\n",
              " 'The top 10 causes of death',\n",
              " 'Tobacco',\n",
              " 'Trachoma',\n",
              " 'Trans fat',\n",
              " 'Trypanosomiasis, human African (sleeping sickness)',\n",
              " 'Ultraviolet radiation',\n",
              " 'Universal health coverage (UHC)',\n",
              " 'Urban health',\n",
              " 'Vector-borne diseases',\n",
              " 'Violence against children',\n",
              " 'White phosphorus',\n",
              " 'Youth violence',\n",
              " 'Zoonoses']"
            ]
          },
          "execution_count": 20,
          "metadata": {},
          "output_type": "execute_result"
        }
      ],
      "source": [
        "# Cria uma lista com as chaves do dicionário disease_symptoms cujos valores são listas vazias\n",
        "empty_symptoms_keys = [key for key, value in disease_symptoms.items() if not value]\n",
        "\n",
        "# Imprime o número de chaves com valores vazios\n",
        "print(len(empty_symptoms_keys))\n",
        "empty_symptoms_keys"
      ]
    },
    {
      "cell_type": "code",
      "execution_count": 27,
      "metadata": {},
      "outputs": [],
      "source": [
        "# Filtrar doenças com sintomas não vazios\n",
        "filtered_diseases_symptoms = {disease: symptoms for disease, symptoms in disease_symptoms.items() if symptoms}\n"
      ]
    },
    {
      "cell_type": "code",
      "execution_count": 28,
      "metadata": {},
      "outputs": [
        {
          "name": "stdout",
          "output_type": "stream",
          "text": [
            "Número de elementos no dicionário filtrado: 70\n"
          ]
        }
      ],
      "source": [
        "# Contar o número de elementos no dicionário filtrado\n",
        "num_elements = len(filtered_diseases_symptoms)\n",
        "print(\"Número de elementos no dicionário filtrado:\", num_elements)"
      ]
    },
    {
      "cell_type": "code",
      "execution_count": 30,
      "metadata": {},
      "outputs": [],
      "source": [
        "# Salvar o dicionário filtrado em um arquivo JSON\n",
        "with open(\"filtered_diseases_symptoms_who.json\", \"w\") as json_file:\n",
        "    json.dump(filtered_diseases_symptoms, json_file, indent=4)"
      ]
    }
  ],
  "metadata": {
    "colab": {
      "authorship_tag": "ABX9TyP8nvgDRnF8x/zijlLNOUcc",
      "include_colab_link": true,
      "provenance": []
    },
    "kernelspec": {
      "display_name": "Python 3",
      "name": "python3"
    },
    "language_info": {
      "codemirror_mode": {
        "name": "ipython",
        "version": 3
      },
      "file_extension": ".py",
      "mimetype": "text/x-python",
      "name": "python",
      "nbconvert_exporter": "python",
      "pygments_lexer": "ipython3",
      "version": "3.11.9"
    }
  },
  "nbformat": 4,
  "nbformat_minor": 0
}
