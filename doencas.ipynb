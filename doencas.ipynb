{
 "cells": [
  {
   "cell_type": "code",
   "execution_count": 1,
   "metadata": {},
   "outputs": [],
   "source": [
    "import json\n",
    "from json import JSONDecodeError\n",
    "import re\n",
    "import pandas as pd"
   ]
  },
  {
   "cell_type": "code",
   "execution_count": 2,
   "metadata": {},
   "outputs": [],
   "source": [
    "def json_pd(nome_arquivo):\n",
    "    \"\"\"Lê um arquivo JSON e retorna um DataFrame com colunas 'Disease' e 'Symptom'.\"\"\"\n",
    "    try:\n",
    "        with open(nome_arquivo, 'r', encoding='utf-8') as arquivo:\n",
    "            dados = json.load(arquivo)\n",
    "\n",
    "        rows = []\n",
    "        for disease, symptoms in dados.items():  # Iterate over disease-symptoms pairs\n",
    "            rows.append({\"disease\": disease, \"symptom\": symptoms})\n",
    "\n",
    "        df = pd.DataFrame(rows)\n",
    "        return df  # Return the DataFrame instead of the original dictionary\n",
    "\n",
    "    except FileNotFoundError:\n",
    "        print(f\"Erro: Arquivo '{nome_arquivo}' não encontrado.\")\n",
    "        return None\n",
    "    except json.JSONDecodeError:\n",
    "        print(f\"Erro: Arquivo '{nome_arquivo}' não é um JSON válido.\")\n",
    "        return None"
   ]
  },
  {
   "cell_type": "code",
   "execution_count": 3,
   "metadata": {},
   "outputs": [],
   "source": [
    "list_files = ['translated_medline.json', 'translated_who.json']"
   ]
  },
  {
   "cell_type": "code",
   "execution_count": 4,
   "metadata": {},
   "outputs": [],
   "source": [
    "def merge_files(list_files = list_files):\n",
    "    df1 = json_pd(list_files[0])\n",
    "    df1['disease'] = df1['disease'].astype(str).str.lower().replace(r'\\([^)]*\\)', '', regex=True)\n",
    "    df1['symptom'] = df1['symptom'].astype(str).str.lower().replace(r'\\([^)]*\\)', '', regex=True)  \n",
    "    for file in list_files[1:]:  \n",
    "        df2 = json_pd(file)\n",
    "        df2['disease'] = df2['disease'].astype(str).str.lower().replace(r'\\([^)]*\\)', '', regex=True)  \n",
    "        df2['symptom'] = df2['symptom'].astype(str).str.lower().replace(r'\\([^)]*\\)', '', regex=True) \n",
    "        df1 = pd.merge(df1, df2, on='disease', how='outer')\n",
    "    return df1"
   ]
  },
  {
   "cell_type": "code",
   "execution_count": 5,
   "metadata": {},
   "outputs": [],
   "source": [
    "df = merge_files(list_files)\n"
   ]
  },
  {
   "cell_type": "code",
   "execution_count": 6,
   "metadata": {},
   "outputs": [
    {
     "data": {
      "text/html": [
       "<div>\n",
       "<style scoped>\n",
       "    .dataframe tbody tr th:only-of-type {\n",
       "        vertical-align: middle;\n",
       "    }\n",
       "\n",
       "    .dataframe tbody tr th {\n",
       "        vertical-align: top;\n",
       "    }\n",
       "\n",
       "    .dataframe thead th {\n",
       "        text-align: right;\n",
       "    }\n",
       "</style>\n",
       "<table border=\"1\" class=\"dataframe\">\n",
       "  <thead>\n",
       "    <tr style=\"text-align: right;\">\n",
       "      <th></th>\n",
       "      <th>disease</th>\n",
       "      <th>symptoms</th>\n",
       "    </tr>\n",
       "  </thead>\n",
       "  <tbody>\n",
       "    <tr>\n",
       "      <th>0</th>\n",
       "      <td>abuso de pessoas idosas</td>\n",
       "      <td>['lesões físicas', 'mortalidade prematura', 'd...</td>\n",
       "    </tr>\n",
       "    <tr>\n",
       "      <th>1</th>\n",
       "      <td>anemia</td>\n",
       "      <td>['cansaço tonturas vertigens', 'extremidades f...</td>\n",
       "    </tr>\n",
       "    <tr>\n",
       "      <th>2</th>\n",
       "      <td>artrite reumatoide</td>\n",
       "      <td>['dor nas articulações', 'rigidez', 'ternura',...</td>\n",
       "    </tr>\n",
       "    <tr>\n",
       "      <th>3</th>\n",
       "      <td>asma</td>\n",
       "      <td>['tosse persistente, especialmente à noite', '...</td>\n",
       "    </tr>\n",
       "    <tr>\n",
       "      <th>4</th>\n",
       "      <td>borreliose de lyme</td>\n",
       "      <td>['uma erupção vermelha chamada eritema migrató...</td>\n",
       "    </tr>\n",
       "    <tr>\n",
       "      <th>...</th>\n",
       "      <td>...</td>\n",
       "      <td>...</td>\n",
       "    </tr>\n",
       "    <tr>\n",
       "      <th>95</th>\n",
       "      <td>vírus herpes simplex</td>\n",
       "      <td>['sem sintomas ou sintomas leves', 'bolhas ou ...</td>\n",
       "    </tr>\n",
       "    <tr>\n",
       "      <th>96</th>\n",
       "      <td>vírus ii t-linfotrópico humano</td>\n",
       "      <td>['sem sintomas na maioria dos casos', 'nódulos...</td>\n",
       "    </tr>\n",
       "    <tr>\n",
       "      <th>97</th>\n",
       "      <td>vírus nipah</td>\n",
       "      <td>['febre', 'dores de cabeça', 'dor muscular', '...</td>\n",
       "    </tr>\n",
       "    <tr>\n",
       "      <th>98</th>\n",
       "      <td>zika</td>\n",
       "      <td>['muitas vezes sem sintomas', 'os sintomas apa...</td>\n",
       "    </tr>\n",
       "    <tr>\n",
       "      <th>99</th>\n",
       "      <td>ébola</td>\n",
       "      <td>['febre', 'dor de cabeça', 'dores musculares o...</td>\n",
       "    </tr>\n",
       "  </tbody>\n",
       "</table>\n",
       "<p>100 rows × 2 columns</p>\n",
       "</div>"
      ],
      "text/plain": [
       "                           disease  \\\n",
       "0          abuso de pessoas idosas   \n",
       "1                           anemia   \n",
       "2               artrite reumatoide   \n",
       "3                             asma   \n",
       "4               borreliose de lyme   \n",
       "..                             ...   \n",
       "95            vírus herpes simplex   \n",
       "96  vírus ii t-linfotrópico humano   \n",
       "97                     vírus nipah   \n",
       "98                            zika   \n",
       "99                           ébola   \n",
       "\n",
       "                                             symptoms  \n",
       "0   ['lesões físicas', 'mortalidade prematura', 'd...  \n",
       "1   ['cansaço tonturas vertigens', 'extremidades f...  \n",
       "2   ['dor nas articulações', 'rigidez', 'ternura',...  \n",
       "3   ['tosse persistente, especialmente à noite', '...  \n",
       "4   ['uma erupção vermelha chamada eritema migrató...  \n",
       "..                                                ...  \n",
       "95  ['sem sintomas ou sintomas leves', 'bolhas ou ...  \n",
       "96  ['sem sintomas na maioria dos casos', 'nódulos...  \n",
       "97  ['febre', 'dores de cabeça', 'dor muscular', '...  \n",
       "98  ['muitas vezes sem sintomas', 'os sintomas apa...  \n",
       "99  ['febre', 'dor de cabeça', 'dores musculares o...  \n",
       "\n",
       "[100 rows x 2 columns]"
      ]
     },
     "execution_count": 6,
     "metadata": {},
     "output_type": "execute_result"
    }
   ],
   "source": [
    "df['symptoms'] = df['symptom_x'].fillna(df['symptom_y'])\n",
    "df = df.drop(columns=['symptom_x', 'symptom_y'])\n",
    "df"
   ]
  },
  {
   "cell_type": "code",
   "execution_count": 11,
   "metadata": {},
   "outputs": [],
   "source": [
    "# Convert DataFrame to JSON and save to file\n",
    "df.to_json('doencas.json', orient='records', lines=True)"
   ]
  }
 ],
 "metadata": {
  "kernelspec": {
   "display_name": "Python 3",
   "language": "python",
   "name": "python3"
  },
  "language_info": {
   "codemirror_mode": {
    "name": "ipython",
    "version": 3
   },
   "file_extension": ".py",
   "mimetype": "text/x-python",
   "name": "python",
   "nbconvert_exporter": "python",
   "pygments_lexer": "ipython3",
   "version": "3.11.9"
  }
 },
 "nbformat": 4,
 "nbformat_minor": 2
}
