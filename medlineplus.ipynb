{
  "nbformat": 4,
  "nbformat_minor": 0,
  "metadata": {
    "colab": {
      "provenance": [],
      "authorship_tag": "ABX9TyMr6DL/VACaXtPU2GMIRkjo",
      "include_colab_link": true
    },
    "kernelspec": {
      "name": "python3",
      "display_name": "Python 3"
    },
    "language_info": {
      "name": "python"
    }
  },
  "cells": [
    {
      "cell_type": "markdown",
      "metadata": {
        "id": "view-in-github",
        "colab_type": "text"
      },
      "source": [
        "<a href=\"https://colab.research.google.com/github/pedrolustosab/medlineplus/blob/main/medlineplus.ipynb\" target=\"_parent\"><img src=\"https://colab.research.google.com/assets/colab-badge.svg\" alt=\"Open In Colab\"/></a>"
      ]
    },
    {
      "cell_type": "code",
      "source": [
        "# Importando Bibliotecas\n",
        "import requests\n",
        "import re\n",
        "from bs4 import BeautifulSoup"
      ],
      "metadata": {
        "id": "6jBQa4OdL72w"
      },
      "execution_count": 3,
      "outputs": []
    },
    {
      "cell_type": "code",
      "execution_count": 8,
      "metadata": {
        "id": "opiRr-wjLmL2"
      },
      "outputs": [],
      "source": [
        "# URL\n",
        "infectiousdiseases_url = \"https://medlineplus.gov/infections.html\""
      ]
    },
    {
      "cell_type": "code",
      "source": [
        "# Requisição\n",
        "try:\n",
        "    response = requests.get(infectiousdiseases_url)\n",
        "    response.raise_for_status()  # Lança uma exceção se ocorrer um erro HTTP\n",
        "except requests.exceptions.RequestException as e:\n",
        "    print('Erro ao fazer a requisição:', e)\n",
        "    exit()\n",
        "\n",
        "infectiousdiseases_html = BeautifulSoup(response.content, 'html.parser')"
      ],
      "metadata": {
        "id": "6fFuWfBnMIlV"
      },
      "execution_count": 14,
      "outputs": []
    },
    {
      "cell_type": "code",
      "source": [
        "# Encontrar todos os elementos com a classe \"item\"\n",
        "items = infectiousdiseases_html.find_all(class_='item')\n",
        "\n",
        "# Inicializar uma lista para armazenar as doenças\n",
        "diseases = []\n",
        "\n",
        "# Exibir os textos dos elementos <a> dentro dos elementos com a classe \"item\"\n",
        "for item in items:\n",
        "    # Encontrar todos os elementos <a> dentro do elemento com a classe \"item\"\n",
        "    a_tags = item.find_all('a')\n",
        "    for a_tag in a_tags:\n",
        "        disease = a_tag.text.strip()\n",
        "        if disease != 'Animal Diseases and Your Health':\n",
        "            diseases.append(disease)"
      ],
      "metadata": {
        "id": "qgmCqzpAM8TE"
      },
      "execution_count": 16,
      "outputs": []
    },
    {
      "cell_type": "code",
      "source": [
        "# Dicionário para armazenar as doenças e sintomas\n",
        "disease_symptoms = {}\n",
        "\n",
        "# Itera sobre cada doença na lista de doenças\n",
        "for disease in diseases:\n",
        "    # Limpa o nome da doença para criar a URL\n",
        "    disease_clear = re.sub(\"[^\\w]\", \"\", disease.lower())\n",
        "    disease_html = f'https://medlineplus.gov/{disease_clear}.html'\n",
        "\n",
        "    try:\n",
        "        # Tenta fazer uma requisição HTTP para obter o conteúdo da página da doença\n",
        "        response = requests.get(disease_html)\n",
        "        response.raise_for_status()  # Lança uma exceção se ocorrer um erro HTTP\n",
        "    except requests.exceptions.RequestException as e:\n",
        "        # Em caso de erro na requisição, exibe uma mensagem de erro e encerra o programa\n",
        "        print('Erro ao fazer a requisição:', e)\n",
        "        exit()\n",
        "\n",
        "    # Analisa o conteúdo HTML da página da doença\n",
        "    soup = BeautifulSoup(response.content, 'html.parser')\n",
        "\n",
        "    # Encontra o primeiro elemento <h3> que contém \"What are the symptoms of\"\n",
        "    symptoms_header = soup.find('h3', string=re.compile(r'What are the symptoms of'))\n",
        "\n",
        "    if not symptoms_header:\n",
        "        # Se não houver um cabeçalho de sintomas, adiciona uma lista vazia de sintomas\n",
        "        symptoms = []\n",
        "    else:\n",
        "        # Adiciona uma lista vazia de sintomas\n",
        "        symptoms = []\n",
        "\n",
        "        # Encontrar o próximo elemento <h3>\n",
        "        last_element = symptoms_header.find_next_sibling('h3')\n",
        "\n",
        "        # Enquanto não chegar ao próximo elemento <h3>\n",
        "        while symptoms_header != last_element:\n",
        "            # Avança para o próximo elemento irmão\n",
        "            symptoms_header = symptoms_header.find_next_sibling()\n",
        "            #Verifica se existe <li>\n",
        "            elements = symptoms_header.find_all('li')\n",
        "            if elements:\n",
        "                # Adiciona cada item da lista de sintomas ao resultado final\n",
        "                for element in elements:\n",
        "                    symptoms.extend([item.strip() for item in element.text.splitlines() if item.strip()])\n",
        "\n",
        "    # Adiciona a doença e seus sintomas ao dicionário disease_symptoms\n",
        "    disease_symptoms[disease] = symptoms\n"
      ],
      "metadata": {
        "id": "XwcZy9ArOt0u"
      },
      "execution_count": 28,
      "outputs": []
    },
    {
      "cell_type": "code",
      "source": [
        "# Cria uma lista com as chaves do dicionário disease_symptoms cujos valores são listas vazias\n",
        "empty_symptoms_keys = [key for key, value in disease_symptoms.items() if not value]\n",
        "\n",
        "# Imprime o número de chaves com valores vazios\n",
        "print(len(empty_symptoms_keys))\n"
      ],
      "metadata": {
        "colab": {
          "base_uri": "https://localhost:8080/"
        },
        "id": "ojIKaScmQDIk",
        "outputId": "efaaa68d-74d9-41d0-a779-02f00bcf2c6f"
      },
      "execution_count": 33,
      "outputs": [
        {
          "output_type": "stream",
          "name": "stdout",
          "text": [
            "90\n"
          ]
        }
      ]
    },
    {
      "cell_type": "code",
      "source": [
        "empty_symptoms_keys"
      ],
      "metadata": {
        "colab": {
          "base_uri": "https://localhost:8080/"
        },
        "id": "56U44ZNuQclC",
        "outputId": "c6bfda29-2bdc-44f4-e876-95427295e943"
      },
      "execution_count": 32,
      "outputs": [
        {
          "output_type": "execute_result",
          "data": {
            "text/plain": [
              "['Aspergillosis',\n",
              " 'Abscess',\n",
              " 'Acute Bronchitis',\n",
              " 'Viral Infections',\n",
              " 'Vaccines',\n",
              " 'HIV and Infections',\n",
              " 'Anthrax',\n",
              " 'Antibiotic Resistance',\n",
              " 'Antibiotics',\n",
              " 'Meningitis',\n",
              " \"Athlete's Foot\",\n",
              " 'Tick Bites',\n",
              " 'Bacterial Infections',\n",
              " 'Urinary Tract Infections',\n",
              " 'Infection Control',\n",
              " 'Body Lice',\n",
              " 'Germs and Hygiene',\n",
              " 'Bone Infections',\n",
              " 'Botulism',\n",
              " 'Plague',\n",
              " 'C. diff Infections',\n",
              " 'Campylobacter Infections',\n",
              " 'Yeast Infections',\n",
              " 'Cat Scratch Disease',\n",
              " 'Cellulitis',\n",
              " 'Chickenpox',\n",
              " 'Chikungunya',\n",
              " 'Childhood Vaccines',\n",
              " 'Cholera',\n",
              " 'Gonorrhea',\n",
              " 'Cleaning, Disinfecting, and Sanitizing',\n",
              " 'Cytomegalovirus Infections',\n",
              " 'Valley Fever',\n",
              " 'Cold Sores',\n",
              " 'Infectious Diseases',\n",
              " 'Genital Warts',\n",
              " 'Pink Eye',\n",
              " 'COVID-19 (Coronavirus Disease 2019)',\n",
              " 'COVID-19 Vaccines',\n",
              " 'Fungal Infections',\n",
              " 'Diphtheria',\n",
              " 'E. Coli Infections',\n",
              " 'Fever',\n",
              " 'Genital Herpes',\n",
              " 'Rubella',\n",
              " 'Giardia Infections',\n",
              " 'Helicobacter Pylori Infections',\n",
              " 'H1N1 Flu (Swine Flu)',\n",
              " 'Haemophilus Infections',\n",
              " 'Mycobacterial Infections',\n",
              " 'Hantavirus Infections',\n",
              " 'Hemorrhagic Fevers',\n",
              " 'Herpes Simplex',\n",
              " 'HIV: PrEP and PEP',\n",
              " 'HPV',\n",
              " 'Rabies',\n",
              " 'Impetigo',\n",
              " 'Infections and Pregnancy',\n",
              " 'Infectious Arthritis',\n",
              " 'Itching',\n",
              " \"Traveler's Health\",\n",
              " 'Tinea Infections',\n",
              " \"Legionnaires' Disease\",\n",
              " 'Leishmaniasis',\n",
              " 'Listeria Infections',\n",
              " 'Tetanus',\n",
              " 'Malaria',\n",
              " 'Measles',\n",
              " 'MRSA',\n",
              " 'Skin Infections',\n",
              " 'Mumps',\n",
              " 'Norovirus Infections',\n",
              " 'Parasitic Diseases',\n",
              " 'Pelvic Inflammatory Disease',\n",
              " 'Pinworms',\n",
              " 'Warts',\n",
              " 'Pneumococcal Infections',\n",
              " 'Pubic Lice',\n",
              " 'Streptococcal Infections',\n",
              " 'Rotavirus Infections',\n",
              " 'Salmonella Infections',\n",
              " 'Scabies',\n",
              " 'Sinusitis',\n",
              " 'Smallpox',\n",
              " 'Syphilis',\n",
              " 'Toxoplasmosis',\n",
              " 'Trichomoniasis',\n",
              " 'Vaccine Safety',\n",
              " 'West Nile Virus',\n",
              " 'Zika Virus']"
            ]
          },
          "metadata": {},
          "execution_count": 32
        }
      ]
    }
  ]
}