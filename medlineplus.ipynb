{
  "cells": [
    {
      "cell_type": "markdown",
      "metadata": {
        "id": "view-in-github",
        "colab_type": "text"
      },
      "source": [
        "<a href=\"https://colab.research.google.com/github/pedrolustosab/diseases/blob/main/medlineplus.ipynb\" target=\"_parent\"><img src=\"https://colab.research.google.com/assets/colab-badge.svg\" alt=\"Open In Colab\"/></a>"
      ]
    },
    {
      "cell_type": "code",
      "execution_count": 1,
      "metadata": {
        "id": "6jBQa4OdL72w"
      },
      "outputs": [],
      "source": [
        "# Importando Bibliotecas\n",
        "import requests\n",
        "import re\n",
        "from bs4 import BeautifulSoup"
      ]
    },
    {
      "cell_type": "code",
      "execution_count": 2,
      "metadata": {
        "id": "opiRr-wjLmL2"
      },
      "outputs": [],
      "source": [
        "# URL\n",
        "infectiousdiseases_url = \"https://medlineplus.gov/infections.html\""
      ]
    },
    {
      "cell_type": "code",
      "execution_count": 3,
      "metadata": {
        "id": "6fFuWfBnMIlV"
      },
      "outputs": [],
      "source": [
        "# Requisição\n",
        "try:\n",
        "    response = requests.get(infectiousdiseases_url)\n",
        "    response.raise_for_status()  # Lança uma exceção se ocorrer um erro HTTP\n",
        "except requests.exceptions.RequestException as e:\n",
        "    print('Erro ao fazer a requisição:', e)\n",
        "    exit()\n",
        "\n",
        "infectiousdiseases_html = BeautifulSoup(response.content, 'html.parser')"
      ]
    },
    {
      "cell_type": "code",
      "execution_count": 4,
      "metadata": {
        "id": "qgmCqzpAM8TE"
      },
      "outputs": [],
      "source": [
        "# Encontrar todos os elementos com a classe \"item\"\n",
        "items = infectiousdiseases_html.find_all(class_='item')\n",
        "\n",
        "# Inicializar uma lista para armazenar as doenças\n",
        "diseases = []\n",
        "\n",
        "# Exibir os textos dos elementos <a> dentro dos elementos com a classe \"item\"\n",
        "for item in items:\n",
        "    # Encontrar todos os elementos <a> dentro do elemento com a classe \"item\"\n",
        "    a_tags = item.find_all('a')\n",
        "    for a_tag in a_tags:\n",
        "        disease = a_tag.text.strip()\n",
        "        if disease != 'Animal Diseases and Your Health':\n",
        "            diseases.append(disease)"
      ]
    },
    {
      "cell_type": "code",
      "execution_count": 5,
      "metadata": {
        "id": "XwcZy9ArOt0u"
      },
      "outputs": [],
      "source": [
        "# Dicionário para armazenar as doenças e sintomas\n",
        "disease_symptoms = {}\n",
        "\n",
        "# Itera sobre cada doença na lista de doenças\n",
        "for disease in diseases:\n",
        "    # Limpa o nome da doença para criar a URL\n",
        "    disease_clear = re.sub(\"[^\\w]\", \"\", disease.lower())\n",
        "    disease_html = f'https://medlineplus.gov/{disease_clear}.html'\n",
        "\n",
        "    try:\n",
        "        # Tenta fazer uma requisição HTTP para obter o conteúdo da página da doença\n",
        "        response = requests.get(disease_html)\n",
        "        response.raise_for_status()  # Lança uma exceção se ocorrer um erro HTTP\n",
        "    except requests.exceptions.RequestException as e:\n",
        "        # Em caso de erro na requisição, exibe uma mensagem de erro e encerra o programa\n",
        "        print('Erro ao fazer a requisição:', e)\n",
        "        exit()\n",
        "\n",
        "    # Analisa o conteúdo HTML da página da doença\n",
        "    soup = BeautifulSoup(response.content, 'html.parser')\n",
        "\n",
        "    # Encontra o primeiro elemento <h3> que contém \"What are the symptoms of\"\n",
        "    symptoms_header = soup.find('h3', string=re.compile(r'What are the symptoms of'))\n",
        "\n",
        "    if not symptoms_header:\n",
        "        # Se não houver um cabeçalho de sintomas, adiciona uma lista vazia de sintomas\n",
        "        symptoms = []\n",
        "    else:\n",
        "        # Adiciona uma lista vazia de sintomas\n",
        "        symptoms = []\n",
        "\n",
        "        # Encontrar o próximo elemento <h3>\n",
        "        last_element = symptoms_header.find_next_sibling('h3')\n",
        "\n",
        "        # Enquanto não chegar ao próximo elemento <h3>\n",
        "        while symptoms_header != last_element:\n",
        "            # Avança para o próximo elemento irmão\n",
        "            symptoms_header = symptoms_header.find_next_sibling()\n",
        "            #Verifica se existe <li>\n",
        "            elements = symptoms_header.find_all('li')\n",
        "            if elements:\n",
        "                # Adiciona cada item da lista de sintomas ao resultado final\n",
        "                for element in elements:\n",
        "                    symptoms.extend([item.strip() for item in element.text.splitlines() if item.strip()])\n",
        "\n",
        "    # Adiciona a doença e seus sintomas ao dicionário disease_symptoms\n",
        "    disease_symptoms[disease] = symptoms\n"
      ]
    },
    {
      "cell_type": "code",
      "execution_count": 6,
      "metadata": {
        "id": "ojIKaScmQDIk",
        "colab": {
          "base_uri": "https://localhost:8080/"
        },
        "outputId": "9325666d-e9a3-4550-9587-11f41cc1824f"
      },
      "outputs": [
        {
          "output_type": "stream",
          "name": "stdout",
          "text": [
            "90\n"
          ]
        }
      ],
      "source": [
        "# Cria uma lista com as chaves do dicionário disease_symptoms cujos valores são listas vazias\n",
        "empty_symptoms_keys = [key for key, value in disease_symptoms.items() if not value]\n",
        "\n",
        "# Imprime o número de chaves com valores vazios\n",
        "print(len(empty_symptoms_keys))\n"
      ]
    },
    {
      "cell_type": "code",
      "execution_count": 7,
      "metadata": {
        "id": "56U44ZNuQclC"
      },
      "outputs": [],
      "source": [
        "# Dicionário para armazenar as doenças e URL\n",
        "disease_url = {}\n",
        "\n",
        "# Itera sobre cada doença na lista de doenças\n",
        "for disease in empty_symptoms_keys:\n",
        "    # Limpa o nome da doença para criar a URL\n",
        "    disease_clear = re.sub(\"[^\\w]\", \"\", disease.lower())\n",
        "    disease_html = f'https://medlineplus.gov/{disease_clear}.html'\n",
        "\n",
        "    try:\n",
        "        # Tenta fazer uma requisição HTTP para obter o conteúdo da página da doença\n",
        "        response = requests.get(disease_html)\n",
        "        response.raise_for_status()  # Lança uma exceção se ocorrer um erro HTTP\n",
        "    except requests.exceptions.RequestException as e:\n",
        "        # Em caso de erro na requisição, adiciona uma string vazia de sintomas ao dicionário\n",
        "        print(f'Erro ao fazer a requisição para {disease}: {e}')\n",
        "        disease_url[disease] = ''\n",
        "        continue\n",
        "\n",
        "    # Analisa o conteúdo HTML da página da doença\n",
        "    soup = BeautifulSoup(response.content, 'html.parser')\n",
        "\n",
        "    # Encontrar o elemento com o id 'section95'\n",
        "    section95 = soup.find('div', id='section95')\n",
        "\n",
        "    if not section95:\n",
        "        # Se não houver um cabeçalho de sintomas, adiciona uma string vazia de sintomas ao dicionário\n",
        "        disease_url[disease] = ''\n",
        "    else:\n",
        "        # Extrai a URL do href dentro do elemento 'a'\n",
        "        url = section95.find('a')['href']\n",
        "        disease_url[disease] = url"
      ]
    },
    {
      "cell_type": "code",
      "execution_count": 8,
      "metadata": {
        "colab": {
          "base_uri": "https://localhost:8080/"
        },
        "id": "I8QdeWBieBP-",
        "outputId": "3f6455df-ae88-40f6-a9f9-c972b47e9bf8"
      },
      "outputs": [
        {
          "output_type": "stream",
          "name": "stdout",
          "text": [
            "68\n"
          ]
        }
      ],
      "source": [
        "# Cria um novo dicionário com as entradas que têm valor ''\n",
        "disease_url_empty = {key: value for key, value in disease_url.items() if value == ''}\n",
        "\n",
        "# Obtém o número de entradas no novo dicionário\n",
        "print(len(disease_url_empty))\n"
      ]
    },
    {
      "cell_type": "code",
      "execution_count": 9,
      "metadata": {
        "colab": {
          "base_uri": "https://localhost:8080/"
        },
        "id": "dSIqyon8dbbV",
        "outputId": "3a1ae018-7ebb-43d9-822f-730af45fdb90"
      },
      "outputs": [
        {
          "output_type": "stream",
          "name": "stdout",
          "text": [
            "22\n"
          ]
        }
      ],
      "source": [
        "# Cria um novo dicionário sem as entradas que têm valor ''\n",
        "disease_url_cleaned = {key: value for key, value in disease_url.items() if value != ''}\n",
        "\n",
        "# Obtém o número de entradas no novo dicionário\n",
        "print(len(disease_url_cleaned))"
      ]
    },
    {
      "cell_type": "code",
      "execution_count": 10,
      "metadata": {
        "colab": {
          "base_uri": "https://localhost:8080/"
        },
        "id": "U3xwM2eZraeJ",
        "outputId": "0cff7761-d576-4487-82a0-194e053a1bd0"
      },
      "outputs": [
        {
          "output_type": "execute_result",
          "data": {
            "text/plain": [
              "{'Aspergillosis': 'https://www.cdc.gov/fungal/diseases/aspergillosis/symptoms.html',\n",
              " 'Anthrax': 'https://www.cdc.gov/anthrax/symptoms/index.html',\n",
              " 'Tick Bites': 'https://www.cdc.gov/ticks/symptoms.html',\n",
              " 'Plague': 'https://www.cdc.gov/plague/symptoms/',\n",
              " 'Chickenpox': 'https://www.cdc.gov/chickenpox/about/symptoms.html',\n",
              " 'Valley Fever': 'https://www.cdc.gov/fungal/diseases/coccidioidomycosis/symptoms.html',\n",
              " 'Haemophilus Infections': 'https://www.cdc.gov/hi-disease/about/symptoms.html',\n",
              " 'Rabies': 'https://www.cdc.gov/rabies/symptoms/',\n",
              " 'Listeria Infections': 'https://www.cdc.gov/listeria/symptoms.html',\n",
              " 'Tetanus': 'https://www.cdc.gov/tetanus/about/symptoms-complications.html',\n",
              " 'Measles': 'https://www.cdc.gov/measles/symptoms/signs-symptoms.html',\n",
              " 'Mumps': 'https://www.cdc.gov/mumps/about/signs-symptoms.html',\n",
              " 'Norovirus Infections': 'https://www.cdc.gov/norovirus/about/symptoms.html',\n",
              " 'Pneumococcal Infections': 'https://www.cdc.gov/pneumococcal/about/symptoms-complications.html',\n",
              " 'Rotavirus Infections': 'https://www.cdc.gov/rotavirus/about/symptoms.html',\n",
              " 'Scabies': 'https://www.cdc.gov/parasites/scabies/disease.html',\n",
              " 'Smallpox': 'https://www.cdc.gov/smallpox/symptoms/index.html',\n",
              " 'Toxoplasmosis': 'https://www.cdc.gov/parasites/toxoplasmosis/disease.html',\n",
              " 'West Nile Virus': 'https://www.cdc.gov/westnile/symptoms/index.html',\n",
              " 'Zika Virus': 'https://www.cdc.gov/zika/symptoms/symptoms.html'}"
            ]
          },
          "metadata": {},
          "execution_count": 10
        }
      ],
      "source": [
        "# Cria um novo dicionário com as entradas que contêm \"cdc\" na URL\n",
        "disease_url_cdc = {key: value for key, value in disease_url_cleaned.items() if 'cdc' in value}\n",
        "\n",
        "# Exibe o novo dicionário\n",
        "disease_url_cdc"
      ]
    },
    {
      "cell_type": "code",
      "execution_count": 11,
      "metadata": {
        "colab": {
          "base_uri": "https://localhost:8080/"
        },
        "id": "DAKhGnxhsTFo",
        "outputId": "1e937487-066a-43e3-9f36-28a591dec7da"
      },
      "outputs": [
        {
          "output_type": "stream",
          "name": "stdout",
          "text": [
            "Erro ao fazer a requisição para https://www.cdc.gov/fungal/diseases/aspergillosis/symptoms.html: 404 Client Error: Not Found for url: https://www.cdc.gov/fungal/diseases/aspergillosis/symptoms.html\n"
          ]
        }
      ],
      "source": [
        "# Acessa o valor da URL do primeiro item do dicionário\n",
        "url = next(iter(disease_url_cleaned.values()))\n",
        "\n",
        "try:\n",
        "    # Tenta fazer uma requisição HTTP para obter o conteúdo da página da doença\n",
        "    response = requests.get(url)\n",
        "    response.raise_for_status()  # Lança uma exceção se ocorrer um erro HTTP\n",
        "except requests.exceptions.RequestException as e:\n",
        "    # Em caso de erro na requisição, adiciona uma string vazia de sintomas ao dicionário\n",
        "    print(f'Erro ao fazer a requisição para {url}: {e}')\n",
        "\n",
        "\n",
        "# Analisa o conteúdo HTML da página da doença\n",
        "soup = BeautifulSoup(response.content, 'html.parser')"
      ]
    }
  ],
  "metadata": {
    "colab": {
      "provenance": [],
      "authorship_tag": "ABX9TyOaGbirzHrmhSSkpsYoL08V",
      "include_colab_link": true
    },
    "kernelspec": {
      "display_name": "Python 3",
      "name": "python3"
    },
    "language_info": {
      "name": "python"
    }
  },
  "nbformat": 4,
  "nbformat_minor": 0
}