{
 "cells": [
  {
   "cell_type": "code",
   "execution_count": 1,
   "metadata": {},
   "outputs": [],
   "source": [
    "#!pip install beautifulsoup4"
   ]
  },
  {
   "cell_type": "code",
   "execution_count": 2,
   "metadata": {},
   "outputs": [],
   "source": [
    "import requests\n",
    "import re\n",
    "from bs4 import BeautifulSoup\n"
   ]
  },
  {
   "cell_type": "code",
   "execution_count": 3,
   "metadata": {},
   "outputs": [],
   "source": [
    "infectiousdiseases = 'https://medlineplus.gov/infections.html'\n",
    "\n",
    "try:\n",
    "    response = requests.get(infectiousdiseases)\n",
    "    response.raise_for_status()  # Lança uma exceção se ocorrer um erro HTTP\n",
    "except requests.exceptions.RequestException as e:\n",
    "    print('Erro ao fazer a requisição:', e)\n",
    "    exit()\n",
    "\n",
    "infectiousdiseases_html = BeautifulSoup(response.content, 'html.parser')"
   ]
  },
  {
   "cell_type": "code",
   "execution_count": 4,
   "metadata": {},
   "outputs": [
    {
     "name": "stdout",
     "output_type": "stream",
     "text": [
      "HTML salvo com sucesso no arquivo \"pagina.html\"\n"
     ]
    }
   ],
   "source": [
    "# Salvar o conteúdo HTML em um arquivo\n",
    "infectiousdiseases = str(infectiousdiseases_html)\n",
    "with open('infectiousdiseases.html', 'w', encoding='utf-8') as file:\n",
    "    file.write(infectiousdiseases)\n",
    "\n",
    "print('HTML salvo com sucesso no arquivo \"pagina.html\"')"
   ]
  },
  {
   "cell_type": "code",
   "execution_count": 5,
   "metadata": {},
   "outputs": [],
   "source": [
    "# Carregar o arquivo HTML local\n",
    "with open('infectiousdiseases.html', 'r', encoding='utf-8') as file:\n",
    "    infectiousdiseases_reader = file.read()\n",
    "\n",
    "# Criar um objeto BeautifulSoup\n",
    "infectiousdiseases_soup = BeautifulSoup(infectiousdiseases_reader, 'html.parser')\n"
   ]
  },
  {
   "cell_type": "code",
   "execution_count": 6,
   "metadata": {},
   "outputs": [],
   "source": [
    "# Encontrar todos os elementos com a classe \"item\"\n",
    "items = infectiousdiseases_soup.find_all(class_='item')\n",
    "\n",
    "# Inicializar uma lista para armazenar as doenças\n",
    "diseases = []\n",
    "\n",
    "# Exibir os textos dos elementos <a> dentro dos elementos com a classe \"item\"\n",
    "for item in items:\n",
    "    # Encontrar todos os elementos <a> dentro do elemento com a classe \"item\"\n",
    "    a_tags = item.find_all('a')\n",
    "    for a_tag in a_tags:\n",
    "        disease = a_tag.text.strip()\n",
    "        if disease != 'Animal Diseases and Your Health':\n",
    "            diseases.append(disease)\n",
    "\n"
   ]
  },
  {
   "cell_type": "code",
   "execution_count": 7,
   "metadata": {},
   "outputs": [],
   "source": [
    "# Dicionário para armazenar as doenças e sintomas\n",
    "disease_symptoms = {}  \n",
    "for disease in diseases:\n",
    "    disease_clear = re.sub(\"[^\\w]\", \"\", disease.lower())\n",
    "    disease_html = f'https://medlineplus.gov/{disease_clear}.html'\n",
    "    \n",
    "    try:\n",
    "        response = requests.get(disease_html)\n",
    "        response.raise_for_status()  # Lança uma exceção se ocorrer um erro HTTP\n",
    "    except requests.exceptions.RequestException as e:\n",
    "        print('Erro ao fazer a requisição:', e)\n",
    "        exit()\n",
    "    \n",
    "    soup = BeautifulSoup(response.content, 'html.parser')\n",
    "    \n",
    "    # Encontrar o primeiro elemento <h3>\n",
    "    first_h3_element = soup.find('h3', string=re.compile(r'^What are the symptoms of'))\n",
    "\n",
    "    # Se não houver primeiro elemento <h3>, sair do loop\n",
    "    if not first_h3_element:\n",
    "        symptoms = []\n",
    "        continue\n",
    "    \n",
    "    # Encontrar o próximo elemento <h3>\n",
    "    next_h3_element = first_h3_element.find_next_sibling('h3')\n",
    "\n",
    "    # Inicializar uma lista para armazenar os elementos <li>\n",
    "    symptoms = []\n",
    "    \n",
    "    # Define o primeiro elemento <h3>\n",
    "    current_element = first_h3_element\n",
    "\n",
    "    # Enquanto não chegar ao próximo elemento <h3>\n",
    "    while current_element != next_h3_element:\n",
    "        # Avança para o próximo elemento irmão\n",
    "        current_element = current_element.find_next_sibling()\n",
    "        elements = current_element.find_all('li')\n",
    "        # Verifica se o elemento é uma tag <li>\n",
    "        if elements:\n",
    "            # Adiciona cada item da lista de sintomas ao resultado final\n",
    "            for element in elements:\n",
    "                symptoms.extend([item.strip() for item in element.text.splitlines() if item.strip()])\n",
    "            \n",
    "    # Adiciona a doença e seus sintomas ao dicionário\n",
    "    disease_symptoms[disease] = symptoms"
   ]
  },
  {
   "cell_type": "code",
   "execution_count": 19,
   "metadata": {},
   "outputs": [
    {
     "name": "stdout",
     "output_type": "stream",
     "text": [
      "['Body Lice', 'Infectious Diseases', 'HPV', 'Skin Infections', 'Pubic Lice']\n"
     ]
    }
   ],
   "source": [
    "# Lista para armazenar as chaves com valores vazios\n",
    "empty_symptoms_keys = []\n",
    "\n",
    "# Itera sobre as chaves do dicionário\n",
    "for key, value in disease_symptoms.items():\n",
    "    if not value:  # Verifica se o valor é uma lista vazia\n",
    "        empty_symptoms_keys.append(key)  # Adiciona a chave à lista\n",
    "\n",
    "print(empty_symptoms_keys)"
   ]
  },
  {
   "cell_type": "code",
   "execution_count": 33,
   "metadata": {},
   "outputs": [
    {
     "name": "stdout",
     "output_type": "stream",
     "text": [
      "Quantidade de itens da lista que não correspondem a uma chave: 186 de um total: 280.\n"
     ]
    }
   ],
   "source": [
    "# Cria um conjunto das chaves do dicionário\n",
    "disease_keys_list = list(disease_symptoms.keys())\n",
    "\n",
    "# Encontrar os itens da lista que não correspondem a uma chave no dicionário\n",
    "items_not_in_dict = [disease for disease in diseases if disease not in disease_keys_list]\n",
    "\n",
    "# Conta quantos itens não correspondem\n",
    "count_items_not_in_dict = len(items_not_in_dict)\n",
    "\n",
    "# Conta quantas doenças há na lista\n",
    "count_disease = len(diseases)\n",
    "\n",
    "print(f\"Quantidade de itens da lista que não correspondem a uma chave: {count_items_not_in_dict} de um total: {count_disease}.\")\n"
   ]
  }
 ],
 "metadata": {
  "kernelspec": {
   "display_name": "Python 3",
   "language": "python",
   "name": "python3"
  },
  "language_info": {
   "codemirror_mode": {
    "name": "ipython",
    "version": 3
   },
   "file_extension": ".py",
   "mimetype": "text/x-python",
   "name": "python",
   "nbconvert_exporter": "python",
   "pygments_lexer": "ipython3",
   "version": "3.11.9"
  }
 },
 "nbformat": 4,
 "nbformat_minor": 2
}
