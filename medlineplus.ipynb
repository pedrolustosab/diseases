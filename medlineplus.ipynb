{
  "cells": [
    {
      "cell_type": "code",
      "execution_count": 1,
      "metadata": {
        "id": "6jBQa4OdL72w"
      },
      "outputs": [],
      "source": [
        "# Importando Bibliotecas\n",
        "import requests\n",
        "import re\n",
        "import time\n",
        "import json\n",
        "from bs4 import BeautifulSoup"
      ]
    },
    {
      "cell_type": "code",
      "execution_count": 2,
      "metadata": {},
      "outputs": [],
      "source": [
        "# URL\n",
        "infectiousdiseases_url = \"https://medlineplus.gov/infections.html\""
      ]
    },
    {
      "cell_type": "code",
      "execution_count": 3,
      "metadata": {},
      "outputs": [],
      "source": [
        "def fetch_disease_html(disease_url):\n",
        "    \"\"\"Busca o conteúdo HTML da página da doença.\"\"\"\n",
        "    try:\n",
        "        response = requests.get(disease_url)\n",
        "        response.raise_for_status()\n",
        "        return response.content\n",
        "    except requests.exceptions.RequestException as e:\n",
        "        print('Erro ao fazer a requisição:', e)\n",
        "        exit()"
      ]
    },
    {
      "cell_type": "code",
      "execution_count": 4,
      "metadata": {},
      "outputs": [],
      "source": [
        "def get_disease_names(infectiousdiseases_url):\n",
        "    \"\"\"Extrai os nomes das doenças da página de doenças infecciosas.\"\"\"\n",
        "    htlm = fetch_disease_html(infectiousdiseases_url)\n",
        "    soup = BeautifulSoup(htlm, 'html.parser')\n",
        "    items = soup.find_all(class_='item')\n",
        "    diseases = []\n",
        "    for item in items:\n",
        "        for a_tag in item.find_all('a'):\n",
        "            disease = a_tag.text.strip()\n",
        "            if disease != 'Animal Diseases and Your Health':\n",
        "                diseases.append(disease)\n",
        "    return diseases"
      ]
    },
    {
      "cell_type": "code",
      "execution_count": 5,
      "metadata": {},
      "outputs": [],
      "source": [
        "def clean_disease_name(disease):\n",
        "    \"\"\"Limpa o nome da doença para criar a URL.\"\"\"\n",
        "    return re.sub(\"[^\\w]\", \"\", disease.lower())"
      ]
    },
    {
      "cell_type": "code",
      "execution_count": 6,
      "metadata": {},
      "outputs": [],
      "source": [
        "def extract_symptoms(soup):\n",
        "    \"\"\"Extrai os sintomas do conteúdo HTML.\"\"\"\n",
        "    symptoms_header = soup.find('h3', string=re.compile(r'What are the symptoms of'))\n",
        "    symptoms = []\n",
        "\n",
        "    if symptoms_header:\n",
        "        last_element = symptoms_header.find_next_sibling('h3')\n",
        "\n",
        "        while symptoms_header != last_element:\n",
        "            symptoms_header = symptoms_header.find_next_sibling()\n",
        "            for element in symptoms_header.find_all('li'):\n",
        "                symptoms.extend([item.strip() for item in element.text.splitlines() if item.strip()])\n",
        "\n",
        "    return symptoms"
      ]
    },
    {
      "cell_type": "code",
      "execution_count": 7,
      "metadata": {},
      "outputs": [],
      "source": [
        "def scrape_disease_symptoms(infectiousdiseases_url):\n",
        "    # Dicionário para armazenar as doenças e sintomas\n",
        "    disease_names = get_disease_names(infectiousdiseases_url)\n",
        "    # Itera sobre cada doença na lista de doenças\n",
        "    disease_symptoms = {}\n",
        "\n",
        "    for disease in disease_names:\n",
        "        disease_url = f'https://medlineplus.gov/{clean_disease_name(disease)}.html'\n",
        "        html_content = fetch_disease_html(disease_url)\n",
        "        soup = BeautifulSoup(html_content, 'html.parser')\n",
        "        symptoms = extract_symptoms(soup)\n",
        "        disease_symptoms[disease] = symptoms\n",
        "\n",
        "    return disease_symptoms"
      ]
    },
    {
      "cell_type": "code",
      "execution_count": 8,
      "metadata": {},
      "outputs": [],
      "source": [
        "# Aplicação da função\n",
        "disease_symptoms = scrape_disease_symptoms(infectiousdiseases_url)"
      ]
    },
    {
      "cell_type": "code",
      "execution_count": 9,
      "metadata": {
        "colab": {
          "base_uri": "https://localhost:8080/"
        },
        "id": "ojIKaScmQDIk",
        "outputId": "9325666d-e9a3-4550-9587-11f41cc1824f"
      },
      "outputs": [
        {
          "name": "stdout",
          "output_type": "stream",
          "text": [
            "90\n"
          ]
        }
      ],
      "source": [
        "# Cria uma lista com as chaves do dicionário disease_symptoms cujos valores são listas vazias\n",
        "empty_symptoms_keys = [key for key, value in disease_symptoms.items() if not value]\n",
        "\n",
        "# Imprime o número de chaves com valores vazios\n",
        "print(len(empty_symptoms_keys))\n"
      ]
    },
    {
      "cell_type": "code",
      "execution_count": 13,
      "metadata": {},
      "outputs": [],
      "source": [
        "# Filtrar doenças com sintomas não vazios\n",
        "filtered_diseases_symptoms = {disease: symptoms for disease, symptoms in disease_symptoms.items() if symptoms}"
      ]
    },
    {
      "cell_type": "code",
      "execution_count": 14,
      "metadata": {},
      "outputs": [
        {
          "name": "stdout",
          "output_type": "stream",
          "text": [
            "Número de elementos no dicionário filtrado: 35\n"
          ]
        }
      ],
      "source": [
        "# Contar o número de elementos no dicionário filtrado\n",
        "num_elements = len(filtered_diseases_symptoms)\n",
        "print(\"Número de elementos no dicionário filtrado:\", num_elements)"
      ]
    },
    {
      "cell_type": "code",
      "execution_count": 15,
      "metadata": {},
      "outputs": [],
      "source": [
        "# Salvar o dicionário filtrado em um arquivo JSON\n",
        "with open(\"filtered_diseases_symptoms_Medlineplus.json\", \"w\") as json_file:\n",
        "    json.dump(filtered_diseases_symptoms, json_file, indent=4)"
      ]
    }
  ],
  "metadata": {
    "colab": {
      "authorship_tag": "ABX9TyOaGbirzHrmhSSkpsYoL08V",
      "include_colab_link": true,
      "provenance": []
    },
    "kernelspec": {
      "display_name": "Python 3",
      "name": "python3"
    },
    "language_info": {
      "codemirror_mode": {
        "name": "ipython",
        "version": 3
      },
      "file_extension": ".py",
      "mimetype": "text/x-python",
      "name": "python",
      "nbconvert_exporter": "python",
      "pygments_lexer": "ipython3",
      "version": "3.11.9"
    }
  },
  "nbformat": 4,
  "nbformat_minor": 0
}
