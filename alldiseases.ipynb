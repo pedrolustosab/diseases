{
 "cells": [
  {
   "cell_type": "code",
   "execution_count": 12,
   "metadata": {},
   "outputs": [],
   "source": [
    "import os\n",
    "from dotenv import load_dotenv\n",
    "import google.generativeai as genai\n",
    "from google.api_core.exceptions import ResourceExhausted\n",
    "import time\n",
    "import json\n",
    "from json import JSONDecodeError\n",
    "import re\n",
    "from tqdm import tqdm\n",
    "import pandas as pd"
   ]
  },
  {
   "cell_type": "code",
   "execution_count": 46,
   "metadata": {},
   "outputs": [],
   "source": [
    "def json_pd(nome_arquivo):\n",
    "    \"\"\"Lê um arquivo JSON e retorna um DataFrame com colunas 'Disease' e 'Symptom'.\"\"\"\n",
    "    try:\n",
    "        with open(nome_arquivo, 'r', encoding='utf-8') as arquivo:\n",
    "            dados = json.load(arquivo)\n",
    "\n",
    "        rows = []\n",
    "        for disease, symptoms in dados.items():  # Iterate over disease-symptoms pairs\n",
    "            rows.append({\"disease\": disease, \"symptom\": symptoms})\n",
    "\n",
    "        df = pd.DataFrame(rows)\n",
    "        return df  # Return the DataFrame instead of the original dictionary\n",
    "\n",
    "    except FileNotFoundError:\n",
    "        print(f\"Erro: Arquivo '{nome_arquivo}' não encontrado.\")\n",
    "        return None\n",
    "    except json.JSONDecodeError:\n",
    "        print(f\"Erro: Arquivo '{nome_arquivo}' não é um JSON válido.\")\n",
    "        return None"
   ]
  },
  {
   "cell_type": "code",
   "execution_count": 58,
   "metadata": {},
   "outputs": [],
   "source": [
    "list_files = ['diseases_symptoms_medline.json', 'diseases_symptoms_who.json', 'diseases_symptoms_gemini.json']"
   ]
  },
  {
   "cell_type": "code",
   "execution_count": 87,
   "metadata": {},
   "outputs": [],
   "source": [
    "def merge_files(list_files = list_files):\n",
    "    df1 = json_pd(list_files[0])\n",
    "    df1['disease'] = df1['disease'].astype(str).str.lower().replace(r'\\([^)]*\\)', '', regex=True)\n",
    "    df1['symptom'] = df1['symptom'].astype(str).str.lower().replace(r'\\([^)]*\\)', '', regex=True)  \n",
    "    for file in list_files[1:]:  \n",
    "        df2 = json_pd(file)\n",
    "        df2['disease'] = df2['disease'].astype(str).str.lower().replace(r'\\([^)]*\\)', '', regex=True)  \n",
    "        df2['symptom'] = df2['symptom'].astype(str).str.lower().replace(r'\\([^)]*\\)', '', regex=True) \n",
    "        df1 = pd.merge(df1, df2, on='disease', how='outer')\n",
    "    return df1"
   ]
  },
  {
   "cell_type": "code",
   "execution_count": 88,
   "metadata": {},
   "outputs": [],
   "source": [
    "df = merge_files(list_files)\n"
   ]
  },
  {
   "cell_type": "code",
   "execution_count": 89,
   "metadata": {},
   "outputs": [
    {
     "data": {
      "text/html": [
       "<div>\n",
       "<style scoped>\n",
       "    .dataframe tbody tr th:only-of-type {\n",
       "        vertical-align: middle;\n",
       "    }\n",
       "\n",
       "    .dataframe tbody tr th {\n",
       "        vertical-align: top;\n",
       "    }\n",
       "\n",
       "    .dataframe thead th {\n",
       "        text-align: right;\n",
       "    }\n",
       "</style>\n",
       "<table border=\"1\" class=\"dataframe\">\n",
       "  <thead>\n",
       "    <tr style=\"text-align: right;\">\n",
       "      <th></th>\n",
       "      <th>disease</th>\n",
       "      <th>symptoms</th>\n",
       "    </tr>\n",
       "  </thead>\n",
       "  <tbody>\n",
       "    <tr>\n",
       "      <th>0</th>\n",
       "      <td>abortion</td>\n",
       "      <td>['incomplete abortion not all pregnancy tissue...</td>\n",
       "    </tr>\n",
       "    <tr>\n",
       "      <th>1</th>\n",
       "      <td>abscess</td>\n",
       "      <td>['pain', 'swelling', 'redness', 'warmth', 'pus...</td>\n",
       "    </tr>\n",
       "    <tr>\n",
       "      <th>2</th>\n",
       "      <td>abuse of older people</td>\n",
       "      <td>['physical injuries', 'premature death', 'depr...</td>\n",
       "    </tr>\n",
       "    <tr>\n",
       "      <th>3</th>\n",
       "      <td>acute bronchitis</td>\n",
       "      <td>['cough', 'coughing up mucus phlegm', 'shortne...</td>\n",
       "    </tr>\n",
       "    <tr>\n",
       "      <th>4</th>\n",
       "      <td>acute flaccid myelitis</td>\n",
       "      <td>['arm or leg weakness', 'a loss of muscle tone...</td>\n",
       "    </tr>\n",
       "    <tr>\n",
       "      <th>...</th>\n",
       "      <td>...</td>\n",
       "      <td>...</td>\n",
       "    </tr>\n",
       "    <tr>\n",
       "      <th>208</th>\n",
       "      <td>yaws</td>\n",
       "      <td>['wartlike tumor filled with bacteria', 'ulcer...</td>\n",
       "    </tr>\n",
       "    <tr>\n",
       "      <th>209</th>\n",
       "      <td>yeast infections</td>\n",
       "      <td>['itching and irritation in the vagina or surr...</td>\n",
       "    </tr>\n",
       "    <tr>\n",
       "      <th>210</th>\n",
       "      <td>yellow fever</td>\n",
       "      <td>['days incubation', 'fever muscle pain headach...</td>\n",
       "    </tr>\n",
       "    <tr>\n",
       "      <th>211</th>\n",
       "      <td>zika virus</td>\n",
       "      <td>['often no symptoms', 'symptoms appear  days a...</td>\n",
       "    </tr>\n",
       "    <tr>\n",
       "      <th>212</th>\n",
       "      <td>zoonoses</td>\n",
       "      <td>['symptoms vary widely depending on the specif...</td>\n",
       "    </tr>\n",
       "  </tbody>\n",
       "</table>\n",
       "<p>213 rows × 2 columns</p>\n",
       "</div>"
      ],
      "text/plain": [
       "                    disease                                           symptoms\n",
       "0                  abortion  ['incomplete abortion not all pregnancy tissue...\n",
       "1                   abscess  ['pain', 'swelling', 'redness', 'warmth', 'pus...\n",
       "2     abuse of older people  ['physical injuries', 'premature death', 'depr...\n",
       "3          acute bronchitis  ['cough', 'coughing up mucus phlegm', 'shortne...\n",
       "4    acute flaccid myelitis  ['arm or leg weakness', 'a loss of muscle tone...\n",
       "..                      ...                                                ...\n",
       "208                    yaws  ['wartlike tumor filled with bacteria', 'ulcer...\n",
       "209        yeast infections  ['itching and irritation in the vagina or surr...\n",
       "210            yellow fever  ['days incubation', 'fever muscle pain headach...\n",
       "211              zika virus  ['often no symptoms', 'symptoms appear  days a...\n",
       "212                zoonoses  ['symptoms vary widely depending on the specif...\n",
       "\n",
       "[213 rows x 2 columns]"
      ]
     },
     "execution_count": 89,
     "metadata": {},
     "output_type": "execute_result"
    }
   ],
   "source": [
    "df['symptoms'] = df['symptom_x'].fillna(df['symptom_y']).fillna(df['symptom'])\n",
    "df = df.drop(columns=['symptom_x', 'symptom_y', 'symptom'])\n",
    "df"
   ]
  },
  {
   "cell_type": "code",
   "execution_count": 107,
   "metadata": {},
   "outputs": [],
   "source": [
    "# Carrega as variáveis de ambiente do arquivo .env\n",
    "load_dotenv()\n",
    "\n",
    "# Acessa a chave de API do Gemini\n",
    "GEMINI_API_KEY  = os.getenv(\"GEMINI_API_KEY\")\n",
    "genai.configure(api_key=GEMINI_API_KEY)\n",
    "\n",
    "# Define o modelo\n",
    "generation_config = {\n",
    "  \"temperature\": 1,\n",
    "}\n",
    "\n",
    "safety_settings={\n",
    "    'HATE': 'BLOCK_NONE',\n",
    "    'HARASSMENT': 'BLOCK_NONE',\n",
    "    'SEXUAL' : 'BLOCK_NONE',\n",
    "    'DANGEROUS' : 'BLOCK_NONE'\n",
    "    }\n"
   ]
  },
  {
   "cell_type": "code",
   "execution_count": 108,
   "metadata": {},
   "outputs": [],
   "source": [
    "model_diseases = genai.GenerativeModel(model_name=\"gemini-1.0-pro\",      \n",
    "                              generation_config=generation_config,\n",
    "                              safety_settings=safety_settings)"
   ]
  },
  {
   "cell_type": "code",
   "execution_count": 120,
   "metadata": {},
   "outputs": [
    {
     "data": {
      "text/plain": [
       "'yellow fever'"
      ]
     },
     "execution_count": 120,
     "metadata": {},
     "output_type": "execute_result"
    }
   ],
   "source": [
    "df.disease.iloc[210]"
   ]
  },
  {
   "cell_type": "code",
   "execution_count": 121,
   "metadata": {},
   "outputs": [],
   "source": [
    "prompt = f\"\"\"traduza para portugues Brasil {df.disease.iloc[210]}\"\"\"\n",
    "resposta = model_diseases.generate_content(prompt)\n",
    "match =  resposta.text"
   ]
  },
  {
   "cell_type": "code",
   "execution_count": 122,
   "metadata": {},
   "outputs": [
    {
     "data": {
      "text/plain": [
       "'Febre amarela'"
      ]
     },
     "execution_count": 122,
     "metadata": {},
     "output_type": "execute_result"
    }
   ],
   "source": [
    "match"
   ]
  },
  {
   "cell_type": "code",
   "execution_count": null,
   "metadata": {},
   "outputs": [],
   "source": [
    "df = merge_files(list_files)\n"
   ]
  }
 ],
 "metadata": {
  "kernelspec": {
   "display_name": "Python 3",
   "language": "python",
   "name": "python3"
  },
  "language_info": {
   "codemirror_mode": {
    "name": "ipython",
    "version": 3
   },
   "file_extension": ".py",
   "mimetype": "text/x-python",
   "name": "python",
   "nbconvert_exporter": "python",
   "pygments_lexer": "ipython3",
   "version": "3.11.9"
  }
 },
 "nbformat": 4,
 "nbformat_minor": 2
}
